{
  "nbformat": 4,
  "nbformat_minor": 0,
  "metadata": {
    "colab": {
      "provenance": [],
      "collapsed_sections": [
        "yDWKEYLSlQ8b",
        "-nYW4_65K4tQ",
        "SuQoPXWVho6U",
        "VUSw4r8Pho6V",
        "kQv3ypHiho6Y",
        "erHptv1_-MUT",
        "EyXd0QgSUTqL"
      ]
    },
    "kernelspec": {
      "name": "python3",
      "display_name": "Python 3"
    },
    "language_info": {
      "name": "python"
    }
  },
  "cells": [
    {
      "cell_type": "markdown",
      "source": [
        "Please download and load the data file by clicking <a href=\"https://github.com\">here</a> before executing the following code."
      ],
      "metadata": {
        "id": "Rp9O7Z04irRh"
      }
    },
    {
      "cell_type": "markdown",
      "source": [
        "## **Import packages**"
      ],
      "metadata": {
        "id": "yDWKEYLSlQ8b"
      }
    },
    {
      "cell_type": "code",
      "source": [
        "import tensorflow as tf\n",
        "!pip install xgboost\n",
        "import xgboost as xgb\n",
        "from sklearn.metrics import roc_curve, auc\n",
        "import matplotlib.pyplot as plt\n",
        "import numpy as np\n",
        "from scipy.stats import zscore\n",
        "from sklearn.model_selection import train_test_split, GridSearchCV, RandomizedSearchCV\n",
        "from sklearn.metrics import accuracy_score, precision_score, recall_score, f1_score\n",
        "from xgboost import plot_tree\n",
        "!pip install graphviz\n",
        "import graphviz"
      ],
      "metadata": {
        "colab": {
          "base_uri": "https://localhost:8080/"
        },
        "id": "mu3mbEEVbfte",
        "outputId": "7ec73596-c97d-4e0d-c2fd-b33f3c966c85"
      },
      "execution_count": null,
      "outputs": [
        {
          "output_type": "stream",
          "name": "stdout",
          "text": [
            "Requirement already satisfied: xgboost in /usr/local/lib/python3.10/dist-packages (2.0.0)\n",
            "Requirement already satisfied: numpy in /usr/local/lib/python3.10/dist-packages (from xgboost) (1.23.5)\n",
            "Requirement already satisfied: scipy in /usr/local/lib/python3.10/dist-packages (from xgboost) (1.11.3)\n",
            "Requirement already satisfied: graphviz in /usr/local/lib/python3.10/dist-packages (0.20.1)\n"
          ]
        }
      ]
    },
    {
      "cell_type": "markdown",
      "source": [
        "## **Using CNN without amino acids (Mixed sampling)**"
      ],
      "metadata": {
        "id": "-nYW4_65K4tQ"
      }
    },
    {
      "cell_type": "markdown",
      "source": [
        "#### **Using all data except allowed/disallowed**"
      ],
      "metadata": {
        "id": "3i8v-Ic_K4tj"
      }
    },
    {
      "cell_type": "code",
      "source": [
        "# Load the training data from a text file\n",
        "data = np.loadtxt('/content/mixfinal.txt')\n",
        "# Split the data into features (X) and labels (y)\n",
        "X_tr = data[:, [9, 10, 11, 12, 13, 14]]\n",
        "\n",
        "y_tr = data[:,0]\n",
        "\n",
        "X_train1 = X_tr[100:]\n",
        "X_test1 = X_tr[:100]\n",
        "y_train = y_tr[100:]\n",
        "y_test = y_tr[:100]\n",
        "\n",
        "# Apply Z-score normalization to each column\n",
        "X_train = zscore(X_train1, axis=0)\n",
        "X_test = zscore(X_test1, axis=0)"
      ],
      "metadata": {
        "id": "bSpWu_GZK4tj",
        "colab": {
          "base_uri": "https://localhost:8080/",
          "height": 494
        },
        "outputId": "3d3f8522-b7e2-4d9e-c84c-ce1c53c54c20"
      },
      "execution_count": 17,
      "outputs": [
        {
          "output_type": "error",
          "ename": "ValueError",
          "evalue": "ignored",
          "traceback": [
            "\u001b[0;31m---------------------------------------------------------------------------\u001b[0m",
            "\u001b[0;31mValueError\u001b[0m                                Traceback (most recent call last)",
            "\u001b[0;31mValueError\u001b[0m: could not convert string to float: '<!DOCTYPE'",
            "\nThe above exception was the direct cause of the following exception:\n",
            "\u001b[0;31mValueError\u001b[0m                                Traceback (most recent call last)",
            "\u001b[0;32m<ipython-input-17-3ad92d112180>\u001b[0m in \u001b[0;36m<cell line: 2>\u001b[0;34m()\u001b[0m\n\u001b[1;32m      1\u001b[0m \u001b[0;31m# Load the training data from a text file\u001b[0m\u001b[0;34m\u001b[0m\u001b[0;34m\u001b[0m\u001b[0m\n\u001b[0;32m----> 2\u001b[0;31m \u001b[0mdata\u001b[0m \u001b[0;34m=\u001b[0m \u001b[0mnp\u001b[0m\u001b[0;34m.\u001b[0m\u001b[0mloadtxt\u001b[0m\u001b[0;34m(\u001b[0m\u001b[0;34m'/content/mixfinal.txt'\u001b[0m\u001b[0;34m)\u001b[0m\u001b[0;34m\u001b[0m\u001b[0;34m\u001b[0m\u001b[0m\n\u001b[0m\u001b[1;32m      3\u001b[0m \u001b[0;31m# Split the data into features (X) and labels (y), 15, 16, 17, 18, 19, 20, 21, 22, 23, 24, 25, 26, 27, 28, 29, 30, 31, 32, 33, 34\u001b[0m\u001b[0;34m\u001b[0m\u001b[0;34m\u001b[0m\u001b[0m\n\u001b[1;32m      4\u001b[0m \u001b[0mX_tr\u001b[0m \u001b[0;34m=\u001b[0m \u001b[0mdata\u001b[0m\u001b[0;34m[\u001b[0m\u001b[0;34m:\u001b[0m\u001b[0;34m,\u001b[0m \u001b[0;34m[\u001b[0m\u001b[0;36m9\u001b[0m\u001b[0;34m,\u001b[0m \u001b[0;36m10\u001b[0m\u001b[0;34m,\u001b[0m \u001b[0;36m11\u001b[0m\u001b[0;34m,\u001b[0m \u001b[0;36m12\u001b[0m\u001b[0;34m,\u001b[0m \u001b[0;36m13\u001b[0m\u001b[0;34m,\u001b[0m \u001b[0;36m14\u001b[0m\u001b[0;34m]\u001b[0m\u001b[0;34m]\u001b[0m\u001b[0;34m\u001b[0m\u001b[0;34m\u001b[0m\u001b[0m\n\u001b[1;32m      5\u001b[0m \u001b[0;34m\u001b[0m\u001b[0m\n",
            "\u001b[0;32m/usr/local/lib/python3.10/dist-packages/numpy/lib/npyio.py\u001b[0m in \u001b[0;36mloadtxt\u001b[0;34m(fname, dtype, comments, delimiter, converters, skiprows, usecols, unpack, ndmin, encoding, max_rows, quotechar, like)\u001b[0m\n\u001b[1;32m   1336\u001b[0m         \u001b[0mdelimiter\u001b[0m \u001b[0;34m=\u001b[0m \u001b[0mdelimiter\u001b[0m\u001b[0;34m.\u001b[0m\u001b[0mdecode\u001b[0m\u001b[0;34m(\u001b[0m\u001b[0;34m'latin1'\u001b[0m\u001b[0;34m)\u001b[0m\u001b[0;34m\u001b[0m\u001b[0;34m\u001b[0m\u001b[0m\n\u001b[1;32m   1337\u001b[0m \u001b[0;34m\u001b[0m\u001b[0m\n\u001b[0;32m-> 1338\u001b[0;31m     arr = _read(fname, dtype=dtype, comment=comment, delimiter=delimiter,\n\u001b[0m\u001b[1;32m   1339\u001b[0m                 \u001b[0mconverters\u001b[0m\u001b[0;34m=\u001b[0m\u001b[0mconverters\u001b[0m\u001b[0;34m,\u001b[0m \u001b[0mskiplines\u001b[0m\u001b[0;34m=\u001b[0m\u001b[0mskiprows\u001b[0m\u001b[0;34m,\u001b[0m \u001b[0musecols\u001b[0m\u001b[0;34m=\u001b[0m\u001b[0musecols\u001b[0m\u001b[0;34m,\u001b[0m\u001b[0;34m\u001b[0m\u001b[0;34m\u001b[0m\u001b[0m\n\u001b[1;32m   1340\u001b[0m                 \u001b[0munpack\u001b[0m\u001b[0;34m=\u001b[0m\u001b[0munpack\u001b[0m\u001b[0;34m,\u001b[0m \u001b[0mndmin\u001b[0m\u001b[0;34m=\u001b[0m\u001b[0mndmin\u001b[0m\u001b[0;34m,\u001b[0m \u001b[0mencoding\u001b[0m\u001b[0;34m=\u001b[0m\u001b[0mencoding\u001b[0m\u001b[0;34m,\u001b[0m\u001b[0;34m\u001b[0m\u001b[0;34m\u001b[0m\u001b[0m\n",
            "\u001b[0;32m/usr/local/lib/python3.10/dist-packages/numpy/lib/npyio.py\u001b[0m in \u001b[0;36m_read\u001b[0;34m(fname, delimiter, comment, quote, imaginary_unit, usecols, skiplines, max_rows, converters, ndmin, unpack, dtype, encoding)\u001b[0m\n\u001b[1;32m    997\u001b[0m \u001b[0;34m\u001b[0m\u001b[0m\n\u001b[1;32m    998\u001b[0m         \u001b[0;32mif\u001b[0m \u001b[0mread_dtype_via_object_chunks\u001b[0m \u001b[0;32mis\u001b[0m \u001b[0;32mNone\u001b[0m\u001b[0;34m:\u001b[0m\u001b[0;34m\u001b[0m\u001b[0;34m\u001b[0m\u001b[0m\n\u001b[0;32m--> 999\u001b[0;31m             arr = _load_from_filelike(\n\u001b[0m\u001b[1;32m   1000\u001b[0m                 \u001b[0mdata\u001b[0m\u001b[0;34m,\u001b[0m \u001b[0mdelimiter\u001b[0m\u001b[0;34m=\u001b[0m\u001b[0mdelimiter\u001b[0m\u001b[0;34m,\u001b[0m \u001b[0mcomment\u001b[0m\u001b[0;34m=\u001b[0m\u001b[0mcomment\u001b[0m\u001b[0;34m,\u001b[0m \u001b[0mquote\u001b[0m\u001b[0;34m=\u001b[0m\u001b[0mquote\u001b[0m\u001b[0;34m,\u001b[0m\u001b[0;34m\u001b[0m\u001b[0;34m\u001b[0m\u001b[0m\n\u001b[1;32m   1001\u001b[0m                 \u001b[0mimaginary_unit\u001b[0m\u001b[0;34m=\u001b[0m\u001b[0mimaginary_unit\u001b[0m\u001b[0;34m,\u001b[0m\u001b[0;34m\u001b[0m\u001b[0;34m\u001b[0m\u001b[0m\n",
            "\u001b[0;31mValueError\u001b[0m: could not convert string '<!DOCTYPE' to float64 at row 0, column 1."
          ]
        }
      ]
    },
    {
      "cell_type": "code",
      "source": [
        "# Create the CNN model\n",
        "model = tf.keras.Sequential([\n",
        "    tf.keras.layers.Input(shape=(6,)),\n",
        "    tf.keras.layers.Dense(units=128, activation='relu'),\n",
        "    #tf.keras.layers.Dense(units=32, activation='relu'),\n",
        "    tf.keras.layers.Dense(units=64, activation='relu'),\n",
        "    tf.keras.layers.Dense(units=8, activation='relu'),\n",
        "    #tf.keras.layers.Dense(units=2, activation='relu'),\n",
        "    tf.keras.layers.Dense(units=1, activation='sigmoid')\n",
        "])\n",
        "model.compile(optimizer='adam', loss='binary_crossentropy', metrics=['accuracy'])"
      ],
      "metadata": {
        "id": "_AOS1_D0tDm3"
      },
      "execution_count": null,
      "outputs": []
    },
    {
      "cell_type": "code",
      "source": [
        "# Train the model\n",
        "model.fit(X_train, y_train, epochs=30, batch_size=64, validation_data=(X_test, y_test))"
      ],
      "metadata": {
        "colab": {
          "base_uri": "https://localhost:8080/"
        },
        "outputId": "6197a21b-95d3-4b20-c9bd-430707fc344d",
        "id": "ti5I-E0QK4tj"
      },
      "execution_count": null,
      "outputs": [
        {
          "output_type": "stream",
          "name": "stdout",
          "text": [
            "Epoch 1/30\n",
            "39/39 [==============================] - 2s 9ms/step - loss: 0.6104 - accuracy: 0.6881 - val_loss: 0.5559 - val_accuracy: 0.6900\n",
            "Epoch 2/30\n",
            "39/39 [==============================] - 0s 3ms/step - loss: 0.5610 - accuracy: 0.7242 - val_loss: 0.5529 - val_accuracy: 0.6800\n",
            "Epoch 3/30\n",
            "39/39 [==============================] - 0s 3ms/step - loss: 0.5539 - accuracy: 0.7218 - val_loss: 0.5576 - val_accuracy: 0.6900\n",
            "Epoch 4/30\n",
            "39/39 [==============================] - 0s 3ms/step - loss: 0.5460 - accuracy: 0.7314 - val_loss: 0.5627 - val_accuracy: 0.6800\n",
            "Epoch 5/30\n",
            "39/39 [==============================] - 0s 3ms/step - loss: 0.5388 - accuracy: 0.7310 - val_loss: 0.5631 - val_accuracy: 0.6600\n",
            "Epoch 6/30\n",
            "39/39 [==============================] - 0s 4ms/step - loss: 0.5323 - accuracy: 0.7363 - val_loss: 0.5627 - val_accuracy: 0.6800\n",
            "Epoch 7/30\n",
            "39/39 [==============================] - 0s 3ms/step - loss: 0.5312 - accuracy: 0.7346 - val_loss: 0.5606 - val_accuracy: 0.6900\n",
            "Epoch 8/30\n",
            "39/39 [==============================] - 0s 3ms/step - loss: 0.5229 - accuracy: 0.7415 - val_loss: 0.5696 - val_accuracy: 0.6600\n",
            "Epoch 9/30\n",
            "39/39 [==============================] - 0s 3ms/step - loss: 0.5172 - accuracy: 0.7479 - val_loss: 0.5586 - val_accuracy: 0.6900\n",
            "Epoch 10/30\n",
            "39/39 [==============================] - 0s 4ms/step - loss: 0.5120 - accuracy: 0.7507 - val_loss: 0.5538 - val_accuracy: 0.6700\n",
            "Epoch 11/30\n",
            "39/39 [==============================] - 0s 3ms/step - loss: 0.5076 - accuracy: 0.7575 - val_loss: 0.5581 - val_accuracy: 0.6700\n",
            "Epoch 12/30\n",
            "39/39 [==============================] - 0s 3ms/step - loss: 0.5023 - accuracy: 0.7591 - val_loss: 0.5612 - val_accuracy: 0.6900\n",
            "Epoch 13/30\n",
            "39/39 [==============================] - 0s 3ms/step - loss: 0.4948 - accuracy: 0.7583 - val_loss: 0.5596 - val_accuracy: 0.6700\n",
            "Epoch 14/30\n",
            "39/39 [==============================] - 0s 4ms/step - loss: 0.4900 - accuracy: 0.7644 - val_loss: 0.5551 - val_accuracy: 0.6800\n",
            "Epoch 15/30\n",
            "39/39 [==============================] - 0s 3ms/step - loss: 0.4840 - accuracy: 0.7623 - val_loss: 0.5552 - val_accuracy: 0.6700\n",
            "Epoch 16/30\n",
            "39/39 [==============================] - 0s 3ms/step - loss: 0.4785 - accuracy: 0.7648 - val_loss: 0.5645 - val_accuracy: 0.6800\n",
            "Epoch 17/30\n",
            "39/39 [==============================] - 0s 3ms/step - loss: 0.4739 - accuracy: 0.7696 - val_loss: 0.5563 - val_accuracy: 0.7000\n",
            "Epoch 18/30\n",
            "39/39 [==============================] - 0s 3ms/step - loss: 0.4710 - accuracy: 0.7724 - val_loss: 0.5397 - val_accuracy: 0.6800\n",
            "Epoch 19/30\n",
            "39/39 [==============================] - 0s 3ms/step - loss: 0.4671 - accuracy: 0.7684 - val_loss: 0.5605 - val_accuracy: 0.6600\n",
            "Epoch 20/30\n",
            "39/39 [==============================] - 0s 3ms/step - loss: 0.4615 - accuracy: 0.7768 - val_loss: 0.5506 - val_accuracy: 0.6900\n",
            "Epoch 21/30\n",
            "39/39 [==============================] - 0s 3ms/step - loss: 0.4517 - accuracy: 0.7832 - val_loss: 0.5466 - val_accuracy: 0.7000\n",
            "Epoch 22/30\n",
            "39/39 [==============================] - 0s 3ms/step - loss: 0.4474 - accuracy: 0.7876 - val_loss: 0.5289 - val_accuracy: 0.7000\n",
            "Epoch 23/30\n",
            "39/39 [==============================] - 0s 4ms/step - loss: 0.4437 - accuracy: 0.7872 - val_loss: 0.5432 - val_accuracy: 0.6800\n",
            "Epoch 24/30\n",
            "39/39 [==============================] - 0s 3ms/step - loss: 0.4420 - accuracy: 0.7925 - val_loss: 0.5439 - val_accuracy: 0.6800\n",
            "Epoch 25/30\n",
            "39/39 [==============================] - 0s 4ms/step - loss: 0.4358 - accuracy: 0.7876 - val_loss: 0.5388 - val_accuracy: 0.7000\n",
            "Epoch 26/30\n",
            "39/39 [==============================] - 0s 3ms/step - loss: 0.4323 - accuracy: 0.7908 - val_loss: 0.5360 - val_accuracy: 0.7100\n",
            "Epoch 27/30\n",
            "39/39 [==============================] - 0s 3ms/step - loss: 0.4288 - accuracy: 0.8025 - val_loss: 0.5576 - val_accuracy: 0.6900\n",
            "Epoch 28/30\n",
            "39/39 [==============================] - 0s 4ms/step - loss: 0.4206 - accuracy: 0.7969 - val_loss: 0.5264 - val_accuracy: 0.7000\n",
            "Epoch 29/30\n",
            "39/39 [==============================] - 0s 3ms/step - loss: 0.4216 - accuracy: 0.8041 - val_loss: 0.5446 - val_accuracy: 0.7100\n",
            "Epoch 30/30\n",
            "39/39 [==============================] - 0s 3ms/step - loss: 0.4189 - accuracy: 0.8025 - val_loss: 0.5303 - val_accuracy: 0.6900\n"
          ]
        },
        {
          "output_type": "execute_result",
          "data": {
            "text/plain": [
              "<keras.callbacks.History at 0x7fc58ac15660>"
            ]
          },
          "metadata": {},
          "execution_count": 48
        }
      ]
    },
    {
      "cell_type": "code",
      "source": [
        "# Make predictions on the test set\n",
        "y_pred = model.predict(X_test)\n",
        "y_pred_binary = [1 if p >= 0.5 else 0 for p in y_pred]\n",
        "\n",
        "# Calculate accuracy of the model\n",
        "accuracy = accuracy_score(y_test, y_pred_binary)\n",
        "print(f'Accuracy: {accuracy}')\n",
        "\n",
        "y_pred_binary = np.array(y_pred_binary)\n",
        "\n",
        "\n",
        "# Calculate the true positives, false positives, true negatives, and false negatives\n",
        "\n",
        "true_positives = np.sum((y_pred_binary == 1) & (y_test == 1))\n",
        "false_positives = np.sum((y_pred_binary == 1) & (y_test == 0))\n",
        "true_negatives = np.sum((y_pred_binary == 0) & (y_test == 0))\n",
        "false_negatives = np.sum((y_pred_binary == 0) & (y_test == 1))\n",
        "\n",
        "# Create the table\n",
        "table = [\n",
        "    [\"True Positives\", true_positives],\n",
        "    [\"False Positives\", false_positives],\n",
        "    [\"True Negatives\", true_negatives],\n",
        "    [\"False Negatives\", false_negatives]\n",
        "]\n",
        "\n",
        "# Calculate the maximum width of the first column\n",
        "max_width = max(len(row[0]) for row in table)\n",
        "\n",
        "# Print the table\n",
        "print(\"Confusion Matrix:\")\n",
        "print(\"-----------------\")\n",
        "for row in table:\n",
        "    print(f\"{row[0]:<{max_width}} | {row[1]}\")\n",
        "\n",
        "print(\"-----------------\")\n",
        "# Calculate evaluation metrics\n",
        "accuracy = accuracy_score(y_test, y_pred_binary)\n",
        "precision = precision_score(y_test, y_pred_binary)\n",
        "recall = recall_score(y_test, y_pred_binary)\n",
        "f1 = f1_score(y_test, y_pred_binary)\n",
        "\n",
        "# Print the evaluation metrics\n",
        "print(f\"Accuracy: {accuracy:.4f}\")\n",
        "print(f\"Precision: {precision:.4f}\")\n",
        "print(f\"Recall: {recall:.4f}\")\n",
        "print(f\"F1-Score: {f1:.4f}\")\n",
        "print(\"-----------------\")"
      ],
      "metadata": {
        "colab": {
          "base_uri": "https://localhost:8080/"
        },
        "outputId": "8c91a392-c769-46b8-e9ca-6783ed58107a",
        "id": "7RvwsKwQK4tj"
      },
      "execution_count": null,
      "outputs": [
        {
          "output_type": "stream",
          "name": "stdout",
          "text": [
            "4/4 [==============================] - 0s 3ms/step\n",
            "Accuracy: 0.69\n",
            "Confusion Matrix:\n",
            "-----------------\n",
            "True Positives  | 44\n",
            "False Positives | 15\n",
            "True Negatives  | 25\n",
            "False Negatives | 16\n",
            "-----------------\n",
            "Accuracy: 0.6900\n",
            "Precision: 0.7458\n",
            "Recall: 0.7333\n",
            "F1-Score: 0.7395\n",
            "-----------------\n"
          ]
        }
      ]
    },
    {
      "cell_type": "code",
      "source": [
        "# Calculate the false positive rate (FPR) and true positive rate (TPR) for the ROC curve\n",
        "fpr, tpr, thresholds = roc_curve(y_test, y_pred)\n",
        "\n",
        "# Calculate the area under the ROC curve (AUC)\n",
        "roc_auc = auc(fpr, tpr)"
      ],
      "metadata": {
        "id": "l2ddvTbzK4tj"
      },
      "execution_count": null,
      "outputs": []
    },
    {
      "cell_type": "markdown",
      "source": [
        "#### **Using all data with allowed/disallowed**"
      ],
      "metadata": {
        "id": "aQyPJipoK4tk"
      }
    },
    {
      "cell_type": "code",
      "source": [
        "# Load the training data from a text file\n",
        "data = np.loadtxt('/content/mixfinal.txt')\n",
        "# Split the data into features (X) and labels (y)\n",
        "X_tr = data[:, [1, 9, 10, 11, 12, 13, 14]]\n",
        "\n",
        "y_tr = data[:,0]\n",
        "\n",
        "X_train2 = X_tr[100:]\n",
        "X_test2 = X_tr[:100]\n",
        "y_train = y_tr[100:]\n",
        "y_test = y_tr[:100]\n",
        "\n",
        "# Apply Z-score normalization to each column\n",
        "X_train = zscore(X_train2, axis=0)\n",
        "X_test = zscore(X_test2, axis=0)"
      ],
      "metadata": {
        "id": "dxIQOzHJK4tk"
      },
      "execution_count": null,
      "outputs": []
    },
    {
      "cell_type": "code",
      "source": [
        "# Create the CNN model\n",
        "model = tf.keras.Sequential([\n",
        "    tf.keras.layers.Input(shape=(7,)),\n",
        "    tf.keras.layers.Dense(units=128, activation='relu'),\n",
        "    #tf.keras.layers.Dense(units=32, activation='relu'),\n",
        "    tf.keras.layers.Dense(units=64, activation='relu'),\n",
        "    tf.keras.layers.Dense(units=8, activation='relu'),\n",
        "    #tf.keras.layers.Dense(units=2, activation='relu'),\n",
        "    tf.keras.layers.Dense(units=1, activation='sigmoid')\n",
        "])\n",
        "model.compile(optimizer='adam', loss='binary_crossentropy', metrics=['accuracy'])"
      ],
      "metadata": {
        "id": "lKa1qF7FuLju"
      },
      "execution_count": null,
      "outputs": []
    },
    {
      "cell_type": "code",
      "source": [
        "# Train the model\n",
        "model.fit(X_train, y_train, epochs=30, batch_size=64, validation_data=(X_test, y_test))"
      ],
      "metadata": {
        "colab": {
          "base_uri": "https://localhost:8080/"
        },
        "outputId": "c8877339-097e-4c39-94fa-8e60fe6ee1b1",
        "id": "vdEFPKllK4tk"
      },
      "execution_count": null,
      "outputs": [
        {
          "output_type": "stream",
          "name": "stdout",
          "text": [
            "Epoch 1/30\n",
            "39/39 [==============================] - 3s 11ms/step - loss: 0.6182 - accuracy: 0.6736 - val_loss: 0.5471 - val_accuracy: 0.7200\n",
            "Epoch 2/30\n",
            "39/39 [==============================] - 0s 5ms/step - loss: 0.5559 - accuracy: 0.7210 - val_loss: 0.5482 - val_accuracy: 0.6900\n",
            "Epoch 3/30\n",
            "39/39 [==============================] - 0s 5ms/step - loss: 0.5438 - accuracy: 0.7354 - val_loss: 0.5407 - val_accuracy: 0.7200\n",
            "Epoch 4/30\n",
            "39/39 [==============================] - 0s 5ms/step - loss: 0.5354 - accuracy: 0.7443 - val_loss: 0.5361 - val_accuracy: 0.7000\n",
            "Epoch 5/30\n",
            "39/39 [==============================] - 0s 5ms/step - loss: 0.5277 - accuracy: 0.7487 - val_loss: 0.5356 - val_accuracy: 0.7100\n",
            "Epoch 6/30\n",
            "39/39 [==============================] - 0s 5ms/step - loss: 0.5213 - accuracy: 0.7567 - val_loss: 0.5324 - val_accuracy: 0.7100\n",
            "Epoch 7/30\n",
            "39/39 [==============================] - 0s 4ms/step - loss: 0.5161 - accuracy: 0.7551 - val_loss: 0.5292 - val_accuracy: 0.6800\n",
            "Epoch 8/30\n",
            "39/39 [==============================] - 0s 3ms/step - loss: 0.5091 - accuracy: 0.7571 - val_loss: 0.5298 - val_accuracy: 0.7200\n",
            "Epoch 9/30\n",
            "39/39 [==============================] - 0s 3ms/step - loss: 0.5002 - accuracy: 0.7619 - val_loss: 0.5219 - val_accuracy: 0.7200\n",
            "Epoch 10/30\n",
            "39/39 [==============================] - 0s 4ms/step - loss: 0.4943 - accuracy: 0.7664 - val_loss: 0.5253 - val_accuracy: 0.7300\n",
            "Epoch 11/30\n",
            "39/39 [==============================] - 0s 4ms/step - loss: 0.4854 - accuracy: 0.7708 - val_loss: 0.5259 - val_accuracy: 0.7200\n",
            "Epoch 12/30\n",
            "39/39 [==============================] - 0s 3ms/step - loss: 0.4769 - accuracy: 0.7772 - val_loss: 0.5143 - val_accuracy: 0.7200\n",
            "Epoch 13/30\n",
            "39/39 [==============================] - 0s 3ms/step - loss: 0.4670 - accuracy: 0.7836 - val_loss: 0.5311 - val_accuracy: 0.7100\n",
            "Epoch 14/30\n",
            "39/39 [==============================] - 0s 3ms/step - loss: 0.4632 - accuracy: 0.7844 - val_loss: 0.5217 - val_accuracy: 0.7400\n",
            "Epoch 15/30\n",
            "39/39 [==============================] - 0s 3ms/step - loss: 0.4543 - accuracy: 0.7888 - val_loss: 0.5030 - val_accuracy: 0.7300\n",
            "Epoch 16/30\n",
            "39/39 [==============================] - 0s 3ms/step - loss: 0.4479 - accuracy: 0.7912 - val_loss: 0.4923 - val_accuracy: 0.7500\n",
            "Epoch 17/30\n",
            "39/39 [==============================] - 0s 3ms/step - loss: 0.4380 - accuracy: 0.7977 - val_loss: 0.5108 - val_accuracy: 0.7600\n",
            "Epoch 18/30\n",
            "39/39 [==============================] - 0s 3ms/step - loss: 0.4265 - accuracy: 0.8057 - val_loss: 0.4945 - val_accuracy: 0.7400\n",
            "Epoch 19/30\n",
            "39/39 [==============================] - 0s 4ms/step - loss: 0.4196 - accuracy: 0.8129 - val_loss: 0.5033 - val_accuracy: 0.7400\n",
            "Epoch 20/30\n",
            "39/39 [==============================] - 0s 3ms/step - loss: 0.4096 - accuracy: 0.8157 - val_loss: 0.4902 - val_accuracy: 0.7700\n",
            "Epoch 21/30\n",
            "39/39 [==============================] - 0s 3ms/step - loss: 0.4151 - accuracy: 0.8105 - val_loss: 0.4648 - val_accuracy: 0.7600\n",
            "Epoch 22/30\n",
            "39/39 [==============================] - 0s 3ms/step - loss: 0.4025 - accuracy: 0.8193 - val_loss: 0.4754 - val_accuracy: 0.7300\n",
            "Epoch 23/30\n",
            "39/39 [==============================] - 0s 4ms/step - loss: 0.3891 - accuracy: 0.8254 - val_loss: 0.4936 - val_accuracy: 0.7600\n",
            "Epoch 24/30\n",
            "39/39 [==============================] - 0s 3ms/step - loss: 0.3827 - accuracy: 0.8322 - val_loss: 0.4958 - val_accuracy: 0.7600\n",
            "Epoch 25/30\n",
            "39/39 [==============================] - 0s 3ms/step - loss: 0.3752 - accuracy: 0.8330 - val_loss: 0.4592 - val_accuracy: 0.7900\n",
            "Epoch 26/30\n",
            "39/39 [==============================] - 0s 4ms/step - loss: 0.3657 - accuracy: 0.8434 - val_loss: 0.4419 - val_accuracy: 0.8000\n",
            "Epoch 27/30\n",
            "39/39 [==============================] - 0s 4ms/step - loss: 0.3639 - accuracy: 0.8414 - val_loss: 0.4336 - val_accuracy: 0.7900\n",
            "Epoch 28/30\n",
            "39/39 [==============================] - 0s 3ms/step - loss: 0.3528 - accuracy: 0.8446 - val_loss: 0.4374 - val_accuracy: 0.7900\n",
            "Epoch 29/30\n",
            "39/39 [==============================] - 0s 3ms/step - loss: 0.3492 - accuracy: 0.8470 - val_loss: 0.4526 - val_accuracy: 0.8300\n",
            "Epoch 30/30\n",
            "39/39 [==============================] - 0s 3ms/step - loss: 0.3377 - accuracy: 0.8503 - val_loss: 0.4357 - val_accuracy: 0.8100\n"
          ]
        },
        {
          "output_type": "execute_result",
          "data": {
            "text/plain": [
              "<keras.callbacks.History at 0x7fc58aba7c10>"
            ]
          },
          "metadata": {},
          "execution_count": 53
        }
      ]
    },
    {
      "cell_type": "code",
      "source": [
        "# Make predictions on the test set\n",
        "y_pred = model.predict(X_test)\n",
        "y_pred_binary = [1 if p >= 0.5 else 0 for p in y_pred]\n",
        "\n",
        "# Calculate accuracy of the model\n",
        "accuracy = accuracy_score(y_test, y_pred_binary)\n",
        "print(f'Accuracy: {accuracy}')\n",
        "\n",
        "y_pred_binary = np.array(y_pred_binary)"
      ],
      "metadata": {
        "colab": {
          "base_uri": "https://localhost:8080/"
        },
        "outputId": "1eeead5e-9517-47c7-d65c-c7255001174b",
        "id": "eXRtGLJaK4tk"
      },
      "execution_count": null,
      "outputs": [
        {
          "output_type": "stream",
          "name": "stdout",
          "text": [
            "4/4 [==============================] - 0s 3ms/step\n",
            "Accuracy: 0.81\n"
          ]
        }
      ]
    },
    {
      "cell_type": "code",
      "source": [
        "# Calculate the true positives, false positives, true negatives, and false negatives\n",
        "\n",
        "true_positives = np.sum((y_pred_binary == 1) & (y_test == 1))\n",
        "false_positives = np.sum((y_pred_binary == 1) & (y_test == 0))\n",
        "true_negatives = np.sum((y_pred_binary == 0) & (y_test == 0))\n",
        "false_negatives = np.sum((y_pred_binary == 0) & (y_test == 1))\n",
        "\n",
        "# Create the table\n",
        "table = [\n",
        "    [\"True Positives\", true_positives],\n",
        "    [\"False Positives\", false_positives],\n",
        "    [\"True Negatives\", true_negatives],\n",
        "    [\"False Negatives\", false_negatives]\n",
        "]\n",
        "\n",
        "# Calculate the maximum width of the first column\n",
        "max_width = max(len(row[0]) for row in table)\n",
        "\n",
        "# Print the table\n",
        "print(\"Confusion Matrix:\")\n",
        "print(\"-----------------\")\n",
        "for row in table:\n",
        "    print(f\"{row[0]:<{max_width}} | {row[1]}\")\n",
        "\n",
        "print(\"-----------------\")\n",
        "# Calculate evaluation metrics\n",
        "accuracy = accuracy_score(y_test, y_pred_binary)\n",
        "precision = precision_score(y_test, y_pred_binary)\n",
        "recall = recall_score(y_test, y_pred_binary)\n",
        "f1 = f1_score(y_test, y_pred_binary)\n",
        "\n",
        "# Print the evaluation metrics\n",
        "print(f\"Accuracy: {accuracy:.4f}\")\n",
        "print(f\"Precision: {precision:.4f}\")\n",
        "print(f\"Recall: {recall:.4f}\")\n",
        "print(f\"F1-Score: {f1:.4f}\")\n",
        "print(\"-----------------\")"
      ],
      "metadata": {
        "colab": {
          "base_uri": "https://localhost:8080/"
        },
        "outputId": "6398387f-dbab-4a9b-8639-20dc33f9cc64",
        "id": "LAAjEizqK4tk"
      },
      "execution_count": null,
      "outputs": [
        {
          "output_type": "stream",
          "name": "stdout",
          "text": [
            "Confusion Matrix:\n",
            "-----------------\n",
            "True Positives  | 46\n",
            "False Positives | 5\n",
            "True Negatives  | 35\n",
            "False Negatives | 14\n",
            "-----------------\n",
            "Accuracy: 0.8100\n",
            "Precision: 0.9020\n",
            "Recall: 0.7667\n",
            "F1-Score: 0.8288\n",
            "-----------------\n"
          ]
        }
      ]
    },
    {
      "cell_type": "code",
      "source": [
        "# Mixed Sampling\n",
        "\n",
        "\n",
        "# Calculate the false positive rate (FPR) and true positive rate (TPR) for the ROC curve\n",
        "fpr1, tpr1, thresholds1 = roc_curve(y_test, y_pred)\n",
        "\n",
        "# Calculate the area under the ROC curve (AUC)\n",
        "roc_auc1 = auc(fpr1, tpr1)\n",
        "\n",
        "# Plot the ROC curve\n",
        "plt.figure()\n",
        "plt.plot(fpr1, tpr1, color='#E7B800', lw=2, label='with conf (area = %0.2f)' % roc_auc1)\n",
        "plt.plot(fpr, tpr, color='#00AFBB', lw=2, label='without conf (area = %0.2f)' % roc_auc)\n",
        "plt.plot([0, 1], [0, 1], color='black', lw=2, linestyle='--')\n",
        "plt.xlim([0.0, 1.0])\n",
        "plt.ylim([0.0, 1.05])\n",
        "plt.xlabel('False Positive Rate')\n",
        "plt.ylabel('True Positive Rate')\n",
        "plt.title('Receiver Operating Characteristic')\n",
        "plt.legend(loc=\"lower right\")\n",
        "\n",
        "plt.savefig('CNN_mixedsampling.png', dpi=300)\n",
        "plt.show()"
      ],
      "metadata": {
        "colab": {
          "base_uri": "https://localhost:8080/",
          "height": 472
        },
        "outputId": "40eaba70-aded-491a-ef3c-dcd4f78fd925",
        "id": "GspjaI3bK4tk"
      },
      "execution_count": null,
      "outputs": [
        {
          "output_type": "display_data",
          "data": {
            "text/plain": [
              "<Figure size 640x480 with 1 Axes>"
            ],
            "image/png": "[encoded data removed]"
          },
          "metadata": {}
        }
      ]
    },
    {
      "cell_type": "code",
      "source": [
        "# Calculate baseline accuracy\n",
        "y_pred = model.predict(X_test)\n",
        "y_pred_binary = [1 if p >= 0.5 else 0 for p in y_pred]\n",
        "baseline_accuracy = accuracy_score(y_test, y_pred_binary)\n",
        "\n",
        "# Calculate feature importance using permutation importance\n",
        "num_permutations = 100\n",
        "feature_importance = np.zeros(X_test.shape[1])\n",
        "\n",
        "for feature in range(X_test.shape[1]):\n",
        "    X_test_permuted = X_test.copy()\n",
        "    np.random.shuffle(X_test_permuted[:, feature])\n",
        "    y_pred_permuted = model.predict(X_test_permuted)\n",
        "    y_pred_binary_permuted = [1 if p >= 0.5 else 0 for p in y_pred_permuted]\n",
        "    permuted_accuracy = accuracy_score(y_test, y_pred_binary_permuted)\n",
        "    feature_importance[feature] = baseline_accuracy - permuted_accuracy\n",
        "\n",
        "# Normalize feature importance\n",
        "feature_importance /= np.sum(feature_importance)\n",
        "\n",
        "# Print feature importance\n",
        "for i, importance in enumerate(feature_importance):\n",
        "    print(f'Feature {i+1} importance: {importance}')\n"
      ],
      "metadata": {
        "colab": {
          "base_uri": "https://localhost:8080/"
        },
        "outputId": "8e394c61-5ece-493c-831b-a4e2e21a83bc",
        "id": "EUuP1OhAK4tk"
      },
      "execution_count": null,
      "outputs": [
        {
          "output_type": "stream",
          "name": "stdout",
          "text": [
            "4/4 [==============================] - 0s 2ms/step\n",
            "4/4 [==============================] - 0s 3ms/step\n",
            "4/4 [==============================] - 0s 3ms/step\n",
            "4/4 [==============================] - 0s 3ms/step\n",
            "4/4 [==============================] - 0s 2ms/step\n",
            "4/4 [==============================] - 0s 2ms/step\n",
            "4/4 [==============================] - 0s 2ms/step\n",
            "4/4 [==============================] - 0s 3ms/step\n",
            "Feature 1 importance: 0.08771929824561407\n",
            "Feature 2 importance: 0.15789473684210534\n",
            "Feature 3 importance: 0.2280701754385964\n",
            "Feature 4 importance: 0.2456140350877192\n",
            "Feature 5 importance: 0.1403508771929825\n",
            "Feature 6 importance: 0.07017543859649125\n",
            "Feature 7 importance: 0.07017543859649125\n"
          ]
        }
      ]
    },
    {
      "cell_type": "markdown",
      "source": [
        "## **Using CNN with amino acids (Mixed sampling)**"
      ],
      "metadata": {
        "id": "SuQoPXWVho6U"
      }
    },
    {
      "cell_type": "markdown",
      "source": [
        "#### **Using all data except allowed/disallowed**"
      ],
      "metadata": {
        "id": "VUSw4r8Pho6V"
      }
    },
    {
      "cell_type": "code",
      "source": [
        "# Load the training data from a text file\n",
        "data = np.loadtxt('/content/mixfinal.txt')\n",
        "# Split the data into features (X) and labels (y)\n",
        "X_tr = data[:, [9, 10, 11, 12, 13, 14, 15, 16, 17, 18, 19, 20, 21, 22, 23, 24, 25, 26, 27, 28, 29, 30, 31, 32, 33, 34]]\n",
        "\n",
        "y_tr = data[:,0]\n",
        "\n",
        "X_train1 = X_tr[100:]\n",
        "X_test1 = X_tr[:100]\n",
        "y_train = y_tr[100:]\n",
        "y_test = y_tr[:100]\n",
        "\n",
        "# Apply Z-score normalization to each column\n",
        "X_train = zscore(X_train1, axis=0)\n",
        "X_test = zscore(X_test1, axis=0)"
      ],
      "metadata": {
        "id": "cIl3MTRqho6V"
      },
      "execution_count": null,
      "outputs": []
    },
    {
      "cell_type": "code",
      "source": [
        "# Create the CNN model\n",
        "model = tf.keras.Sequential([\n",
        "    tf.keras.layers.Input(shape=(26,)),\n",
        "    #tf.keras.layers.Dense(units=128, activation='relu'),\n",
        "    tf.keras.layers.Dense(units=32, activation='relu'),\n",
        "    tf.keras.layers.Dense(units=64, activation='relu'),\n",
        "    tf.keras.layers.Dense(units=8, activation='relu'),\n",
        "    #tf.keras.layers.Dense(units=2, activation='relu'),\n",
        "    tf.keras.layers.Dense(units=1, activation='sigmoid')\n",
        "])\n",
        "model.compile(optimizer='adam', loss='binary_crossentropy', metrics=['accuracy'])"
      ],
      "metadata": {
        "id": "87Fn_pQPho6W"
      },
      "execution_count": null,
      "outputs": []
    },
    {
      "cell_type": "code",
      "source": [
        "# Train the model\n",
        "model.fit(X_train, y_train, epochs=30, batch_size=64, validation_data=(X_test, y_test))"
      ],
      "metadata": {
        "colab": {
          "base_uri": "https://localhost:8080/"
        },
        "outputId": "7929bfab-0684-4fb5-aa74-b2347470cf1e",
        "id": "LsaCN0MSho6W"
      },
      "execution_count": null,
      "outputs": [
        {
          "output_type": "stream",
          "name": "stdout",
          "text": [
            "Epoch 1/30\n",
            "39/39 [==============================] - 1s 8ms/step - loss: 0.6576 - accuracy: 0.6146 - val_loss: 0.5892 - val_accuracy: 0.7100\n",
            "Epoch 2/30\n",
            "39/39 [==============================] - 0s 3ms/step - loss: 0.5762 - accuracy: 0.7081 - val_loss: 0.5178 - val_accuracy: 0.7300\n",
            "Epoch 3/30\n",
            "39/39 [==============================] - 0s 4ms/step - loss: 0.5382 - accuracy: 0.7363 - val_loss: 0.4949 - val_accuracy: 0.7700\n",
            "Epoch 4/30\n",
            "39/39 [==============================] - 0s 4ms/step - loss: 0.5084 - accuracy: 0.7648 - val_loss: 0.4797 - val_accuracy: 0.7500\n",
            "Epoch 5/30\n",
            "39/39 [==============================] - 0s 3ms/step - loss: 0.4870 - accuracy: 0.7812 - val_loss: 0.4778 - val_accuracy: 0.7800\n",
            "Epoch 6/30\n",
            "39/39 [==============================] - 0s 3ms/step - loss: 0.4656 - accuracy: 0.7916 - val_loss: 0.4812 - val_accuracy: 0.7700\n",
            "Epoch 7/30\n",
            "39/39 [==============================] - 0s 4ms/step - loss: 0.4440 - accuracy: 0.8017 - val_loss: 0.4578 - val_accuracy: 0.7400\n",
            "Epoch 8/30\n",
            "39/39 [==============================] - 0s 3ms/step - loss: 0.4257 - accuracy: 0.8129 - val_loss: 0.4473 - val_accuracy: 0.7600\n",
            "Epoch 9/30\n",
            "39/39 [==============================] - 0s 3ms/step - loss: 0.4034 - accuracy: 0.8274 - val_loss: 0.4412 - val_accuracy: 0.7800\n",
            "Epoch 10/30\n",
            "39/39 [==============================] - 0s 3ms/step - loss: 0.3814 - accuracy: 0.8462 - val_loss: 0.4440 - val_accuracy: 0.7800\n",
            "Epoch 11/30\n",
            "39/39 [==============================] - 0s 3ms/step - loss: 0.3614 - accuracy: 0.8531 - val_loss: 0.4323 - val_accuracy: 0.7700\n",
            "Epoch 12/30\n",
            "39/39 [==============================] - 0s 3ms/step - loss: 0.3424 - accuracy: 0.8611 - val_loss: 0.4160 - val_accuracy: 0.7900\n",
            "Epoch 13/30\n",
            "39/39 [==============================] - 0s 4ms/step - loss: 0.3187 - accuracy: 0.8752 - val_loss: 0.4063 - val_accuracy: 0.7700\n",
            "Epoch 14/30\n",
            "39/39 [==============================] - 0s 4ms/step - loss: 0.3011 - accuracy: 0.8840 - val_loss: 0.4048 - val_accuracy: 0.8000\n",
            "Epoch 15/30\n",
            "39/39 [==============================] - 0s 4ms/step - loss: 0.2804 - accuracy: 0.8916 - val_loss: 0.4070 - val_accuracy: 0.7900\n",
            "Epoch 16/30\n",
            "39/39 [==============================] - 0s 3ms/step - loss: 0.2612 - accuracy: 0.9029 - val_loss: 0.3891 - val_accuracy: 0.8000\n",
            "Epoch 17/30\n",
            "39/39 [==============================] - 0s 3ms/step - loss: 0.2448 - accuracy: 0.9089 - val_loss: 0.3879 - val_accuracy: 0.8000\n",
            "Epoch 18/30\n",
            "39/39 [==============================] - 0s 3ms/step - loss: 0.2285 - accuracy: 0.9165 - val_loss: 0.3932 - val_accuracy: 0.8000\n",
            "Epoch 19/30\n",
            "39/39 [==============================] - 0s 3ms/step - loss: 0.2143 - accuracy: 0.9193 - val_loss: 0.3940 - val_accuracy: 0.8200\n",
            "Epoch 20/30\n",
            "39/39 [==============================] - 0s 3ms/step - loss: 0.2002 - accuracy: 0.9269 - val_loss: 0.3795 - val_accuracy: 0.8000\n",
            "Epoch 21/30\n",
            "39/39 [==============================] - 0s 3ms/step - loss: 0.1829 - accuracy: 0.9322 - val_loss: 0.3649 - val_accuracy: 0.8100\n",
            "Epoch 22/30\n",
            "39/39 [==============================] - 0s 3ms/step - loss: 0.1659 - accuracy: 0.9434 - val_loss: 0.3629 - val_accuracy: 0.8500\n",
            "Epoch 23/30\n",
            "39/39 [==============================] - 0s 3ms/step - loss: 0.1557 - accuracy: 0.9450 - val_loss: 0.3690 - val_accuracy: 0.8500\n",
            "Epoch 24/30\n",
            "39/39 [==============================] - 0s 3ms/step - loss: 0.1439 - accuracy: 0.9506 - val_loss: 0.3608 - val_accuracy: 0.8400\n",
            "Epoch 25/30\n",
            "39/39 [==============================] - 0s 3ms/step - loss: 0.1331 - accuracy: 0.9582 - val_loss: 0.3317 - val_accuracy: 0.8600\n",
            "Epoch 26/30\n",
            "39/39 [==============================] - 0s 3ms/step - loss: 0.1231 - accuracy: 0.9611 - val_loss: 0.3328 - val_accuracy: 0.8800\n",
            "Epoch 27/30\n",
            "39/39 [==============================] - 0s 3ms/step - loss: 0.1122 - accuracy: 0.9675 - val_loss: 0.3262 - val_accuracy: 0.8900\n",
            "Epoch 28/30\n",
            "39/39 [==============================] - 0s 3ms/step - loss: 0.1026 - accuracy: 0.9707 - val_loss: 0.3066 - val_accuracy: 0.8900\n",
            "Epoch 29/30\n",
            "39/39 [==============================] - 0s 3ms/step - loss: 0.0955 - accuracy: 0.9707 - val_loss: 0.3252 - val_accuracy: 0.8900\n",
            "Epoch 30/30\n",
            "39/39 [==============================] - 0s 3ms/step - loss: 0.0863 - accuracy: 0.9747 - val_loss: 0.3313 - val_accuracy: 0.8900\n"
          ]
        },
        {
          "output_type": "execute_result",
          "data": {
            "text/plain": [
              "<keras.callbacks.History at 0x7fc58540eef0>"
            ]
          },
          "metadata": {},
          "execution_count": 83
        }
      ]
    },
    {
      "cell_type": "code",
      "source": [
        "# Make predictions on the test set\n",
        "y_pred = model.predict(X_test)\n",
        "y_pred_binary = [1 if p >= 0.5 else 0 for p in y_pred]\n",
        "\n",
        "# Calculate accuracy of the model\n",
        "accuracy = accuracy_score(y_test, y_pred_binary)\n",
        "print(f'Accuracy: {accuracy}')\n",
        "\n",
        "y_pred_binary = np.array(y_pred_binary)\n",
        "\n",
        "\n",
        "# Calculate the true positives, false positives, true negatives, and false negatives\n",
        "\n",
        "true_positives = np.sum((y_pred_binary == 1) & (y_test == 1))\n",
        "false_positives = np.sum((y_pred_binary == 1) & (y_test == 0))\n",
        "true_negatives = np.sum((y_pred_binary == 0) & (y_test == 0))\n",
        "false_negatives = np.sum((y_pred_binary == 0) & (y_test == 1))\n",
        "\n",
        "# Create the table\n",
        "table = [\n",
        "    [\"True Positives\", true_positives],\n",
        "    [\"False Positives\", false_positives],\n",
        "    [\"True Negatives\", true_negatives],\n",
        "    [\"False Negatives\", false_negatives]\n",
        "]\n",
        "\n",
        "# Calculate the maximum width of the first column\n",
        "max_width = max(len(row[0]) for row in table)\n",
        "\n",
        "# Print the table\n",
        "print(\"Confusion Matrix:\")\n",
        "print(\"-----------------\")\n",
        "for row in table:\n",
        "    print(f\"{row[0]:<{max_width}} | {row[1]}\")\n",
        "\n",
        "print(\"-----------------\")\n",
        "# Calculate evaluation metrics\n",
        "accuracy = accuracy_score(y_test, y_pred_binary)\n",
        "precision = precision_score(y_test, y_pred_binary)\n",
        "recall = recall_score(y_test, y_pred_binary)\n",
        "f1 = f1_score(y_test, y_pred_binary)\n",
        "\n",
        "# Print the evaluation metrics\n",
        "print(f\"Accuracy: {accuracy:.4f}\")\n",
        "print(f\"Precision: {precision:.4f}\")\n",
        "print(f\"Recall: {recall:.4f}\")\n",
        "print(f\"F1-Score: {f1:.4f}\")\n",
        "print(\"-----------------\")"
      ],
      "metadata": {
        "colab": {
          "base_uri": "https://localhost:8080/"
        },
        "outputId": "4ab185de-65dd-482a-f7e5-904c087c5b7c",
        "id": "HODPufoDho6X"
      },
      "execution_count": null,
      "outputs": [
        {
          "output_type": "stream",
          "name": "stdout",
          "text": [
            "4/4 [==============================] - 0s 3ms/step\n",
            "Accuracy: 0.89\n",
            "Confusion Matrix:\n",
            "-----------------\n",
            "True Positives  | 52\n",
            "False Positives | 3\n",
            "True Negatives  | 37\n",
            "False Negatives | 8\n",
            "-----------------\n",
            "Accuracy: 0.8900\n",
            "Precision: 0.9455\n",
            "Recall: 0.8667\n",
            "F1-Score: 0.9043\n",
            "-----------------\n"
          ]
        }
      ]
    },
    {
      "cell_type": "code",
      "source": [
        "# Calculate the false positive rate (FPR) and true positive rate (TPR) for the ROC curve\n",
        "fpr, tpr, thresholds = roc_curve(y_test, y_pred)\n",
        "\n",
        "# Calculate the area under the ROC curve (AUC)\n",
        "roc_auc = auc(fpr, tpr)"
      ],
      "metadata": {
        "id": "U4YARZ9Fho6X"
      },
      "execution_count": null,
      "outputs": []
    },
    {
      "cell_type": "markdown",
      "source": [
        "#### **Using all data with allowed/disallowed**"
      ],
      "metadata": {
        "id": "kQv3ypHiho6Y"
      }
    },
    {
      "cell_type": "code",
      "source": [
        "# Load the training data from a text file\n",
        "data = np.loadtxt('/content/mixfinal.txt')\n",
        "# Split the data into features (X) and labels (y)\n",
        "X_tr = data[:, [1, 9, 10, 11, 12, 13, 14, 15, 16, 17, 18, 19, 20, 21, 22, 23, 24, 25, 26, 27, 28, 29, 30, 31, 32, 33, 34]]\n",
        "\n",
        "y_tr = data[:,0]\n",
        "\n",
        "X_train2 = X_tr[100:]\n",
        "X_test2 = X_tr[:100]\n",
        "y_train = y_tr[100:]\n",
        "y_test = y_tr[:100]\n",
        "\n",
        "# Apply Z-score normalization to each column\n",
        "X_train = zscore(X_train2, axis=0)\n",
        "X_test = zscore(X_test2, axis=0)"
      ],
      "metadata": {
        "id": "LhKLaJ3eho6Y"
      },
      "execution_count": null,
      "outputs": []
    },
    {
      "cell_type": "code",
      "source": [
        "# Create the CNN model\n",
        "model = tf.keras.Sequential([\n",
        "    tf.keras.layers.Input(shape=(27,)),\n",
        "    #tf.keras.layers.Dense(units=128, activation='relu'),\n",
        "    tf.keras.layers.Dense(units=32, activation='relu'),\n",
        "    tf.keras.layers.Dense(units=64, activation='relu'),\n",
        "    tf.keras.layers.Dense(units=8, activation='relu'),\n",
        "    #tf.keras.layers.Dense(units=2, activation='relu'),\n",
        "    tf.keras.layers.Dense(units=1, activation='sigmoid')\n",
        "])\n",
        "model.compile(optimizer='adam', loss='binary_crossentropy', metrics=['accuracy'])"
      ],
      "metadata": {
        "id": "bV5XHEoiho6a"
      },
      "execution_count": null,
      "outputs": []
    },
    {
      "cell_type": "code",
      "source": [
        "# Train the model\n",
        "model.fit(X_train, y_train, epochs=30, batch_size=64, validation_data=(X_test, y_test))"
      ],
      "metadata": {
        "colab": {
          "base_uri": "https://localhost:8080/"
        },
        "outputId": "8961e2f8-be63-41ca-c931-a08139f93e63",
        "id": "nEN2RZL6ho6b"
      },
      "execution_count": null,
      "outputs": [
        {
          "output_type": "stream",
          "name": "stdout",
          "text": [
            "Epoch 1/30\n",
            "39/39 [==============================] - 1s 7ms/step - loss: 0.6682 - accuracy: 0.6138 - val_loss: 0.6199 - val_accuracy: 0.6800\n",
            "Epoch 2/30\n",
            "39/39 [==============================] - 0s 3ms/step - loss: 0.6024 - accuracy: 0.6981 - val_loss: 0.5402 - val_accuracy: 0.7300\n",
            "Epoch 3/30\n",
            "39/39 [==============================] - 0s 3ms/step - loss: 0.5589 - accuracy: 0.7218 - val_loss: 0.5022 - val_accuracy: 0.7600\n",
            "Epoch 4/30\n",
            "39/39 [==============================] - 0s 4ms/step - loss: 0.5316 - accuracy: 0.7471 - val_loss: 0.4802 - val_accuracy: 0.7700\n",
            "Epoch 5/30\n",
            "39/39 [==============================] - 0s 4ms/step - loss: 0.5060 - accuracy: 0.7635 - val_loss: 0.4656 - val_accuracy: 0.7700\n",
            "Epoch 6/30\n",
            "39/39 [==============================] - 0s 4ms/step - loss: 0.4813 - accuracy: 0.7688 - val_loss: 0.4450 - val_accuracy: 0.7600\n",
            "Epoch 7/30\n",
            "39/39 [==============================] - 0s 3ms/step - loss: 0.4581 - accuracy: 0.7884 - val_loss: 0.4340 - val_accuracy: 0.7800\n",
            "Epoch 8/30\n",
            "39/39 [==============================] - 0s 3ms/step - loss: 0.4327 - accuracy: 0.8061 - val_loss: 0.4159 - val_accuracy: 0.8000\n",
            "Epoch 9/30\n",
            "39/39 [==============================] - 0s 3ms/step - loss: 0.4080 - accuracy: 0.8230 - val_loss: 0.4095 - val_accuracy: 0.8100\n",
            "Epoch 10/30\n",
            "39/39 [==============================] - 0s 4ms/step - loss: 0.3819 - accuracy: 0.8418 - val_loss: 0.3932 - val_accuracy: 0.8100\n",
            "Epoch 11/30\n",
            "39/39 [==============================] - 0s 3ms/step - loss: 0.3590 - accuracy: 0.8595 - val_loss: 0.3889 - val_accuracy: 0.8000\n",
            "Epoch 12/30\n",
            "39/39 [==============================] - 0s 4ms/step - loss: 0.3388 - accuracy: 0.8671 - val_loss: 0.3807 - val_accuracy: 0.8100\n",
            "Epoch 13/30\n",
            "39/39 [==============================] - 0s 3ms/step - loss: 0.3205 - accuracy: 0.8739 - val_loss: 0.3656 - val_accuracy: 0.8200\n",
            "Epoch 14/30\n",
            "39/39 [==============================] - 0s 3ms/step - loss: 0.2987 - accuracy: 0.8860 - val_loss: 0.3635 - val_accuracy: 0.7700\n",
            "Epoch 15/30\n",
            "39/39 [==============================] - 0s 3ms/step - loss: 0.2804 - accuracy: 0.8956 - val_loss: 0.3567 - val_accuracy: 0.7900\n",
            "Epoch 16/30\n",
            "39/39 [==============================] - 0s 3ms/step - loss: 0.2622 - accuracy: 0.9029 - val_loss: 0.3337 - val_accuracy: 0.8500\n",
            "Epoch 17/30\n",
            "39/39 [==============================] - 0s 3ms/step - loss: 0.2447 - accuracy: 0.9129 - val_loss: 0.3344 - val_accuracy: 0.8000\n",
            "Epoch 18/30\n",
            "39/39 [==============================] - 0s 3ms/step - loss: 0.2296 - accuracy: 0.9253 - val_loss: 0.3176 - val_accuracy: 0.8700\n",
            "Epoch 19/30\n",
            "39/39 [==============================] - 0s 5ms/step - loss: 0.2121 - accuracy: 0.9334 - val_loss: 0.3043 - val_accuracy: 0.8900\n",
            "Epoch 20/30\n",
            "39/39 [==============================] - 0s 5ms/step - loss: 0.1980 - accuracy: 0.9434 - val_loss: 0.2965 - val_accuracy: 0.8400\n",
            "Epoch 21/30\n",
            "39/39 [==============================] - 0s 5ms/step - loss: 0.1828 - accuracy: 0.9438 - val_loss: 0.2870 - val_accuracy: 0.8600\n",
            "Epoch 22/30\n",
            "39/39 [==============================] - 0s 4ms/step - loss: 0.1709 - accuracy: 0.9530 - val_loss: 0.2853 - val_accuracy: 0.8700\n",
            "Epoch 23/30\n",
            "39/39 [==============================] - 0s 4ms/step - loss: 0.1573 - accuracy: 0.9550 - val_loss: 0.2805 - val_accuracy: 0.8600\n",
            "Epoch 24/30\n",
            "39/39 [==============================] - 0s 5ms/step - loss: 0.1471 - accuracy: 0.9578 - val_loss: 0.2626 - val_accuracy: 0.9000\n",
            "Epoch 25/30\n",
            "39/39 [==============================] - 0s 4ms/step - loss: 0.1347 - accuracy: 0.9659 - val_loss: 0.2551 - val_accuracy: 0.8900\n",
            "Epoch 26/30\n",
            "39/39 [==============================] - 0s 4ms/step - loss: 0.1230 - accuracy: 0.9715 - val_loss: 0.2548 - val_accuracy: 0.8800\n",
            "Epoch 27/30\n",
            "39/39 [==============================] - 0s 4ms/step - loss: 0.1132 - accuracy: 0.9743 - val_loss: 0.2421 - val_accuracy: 0.9100\n",
            "Epoch 28/30\n",
            "39/39 [==============================] - 0s 4ms/step - loss: 0.1034 - accuracy: 0.9771 - val_loss: 0.2222 - val_accuracy: 0.8900\n",
            "Epoch 29/30\n",
            "39/39 [==============================] - 0s 4ms/step - loss: 0.0947 - accuracy: 0.9811 - val_loss: 0.2429 - val_accuracy: 0.9100\n",
            "Epoch 30/30\n",
            "39/39 [==============================] - 0s 5ms/step - loss: 0.0869 - accuracy: 0.9851 - val_loss: 0.2226 - val_accuracy: 0.9300\n"
          ]
        },
        {
          "output_type": "execute_result",
          "data": {
            "text/plain": [
              "<keras.callbacks.History at 0x7fc5854bffd0>"
            ]
          },
          "metadata": {},
          "execution_count": 88
        }
      ]
    },
    {
      "cell_type": "code",
      "source": [
        "# Make predictions on the test set\n",
        "y_pred = model.predict(X_test)\n",
        "y_pred_binary = [1 if p >= 0.5 else 0 for p in y_pred]\n",
        "\n",
        "# Calculate accuracy of the model\n",
        "accuracy = accuracy_score(y_test, y_pred_binary)\n",
        "print(f'Accuracy: {accuracy}')\n",
        "\n",
        "y_pred_binary = np.array(y_pred_binary)"
      ],
      "metadata": {
        "colab": {
          "base_uri": "https://localhost:8080/"
        },
        "outputId": "3c5dbe08-414d-4de6-e62f-49d90939ad6f",
        "id": "UXlfRI61ho6c"
      },
      "execution_count": null,
      "outputs": [
        {
          "output_type": "stream",
          "name": "stdout",
          "text": [
            "4/4 [==============================] - 0s 3ms/step\n",
            "Accuracy: 0.93\n"
          ]
        }
      ]
    },
    {
      "cell_type": "code",
      "source": [
        "# Calculate the true positives, false positives, true negatives, and false negatives\n",
        "\n",
        "true_positives = np.sum((y_pred_binary == 1) & (y_test == 1))\n",
        "false_positives = np.sum((y_pred_binary == 1) & (y_test == 0))\n",
        "true_negatives = np.sum((y_pred_binary == 0) & (y_test == 0))\n",
        "false_negatives = np.sum((y_pred_binary == 0) & (y_test == 1))\n",
        "\n",
        "# Create the table\n",
        "table = [\n",
        "    [\"True Positives\", true_positives],\n",
        "    [\"False Positives\", false_positives],\n",
        "    [\"True Negatives\", true_negatives],\n",
        "    [\"False Negatives\", false_negatives]\n",
        "]\n",
        "\n",
        "# Calculate the maximum width of the first column\n",
        "max_width = max(len(row[0]) for row in table)\n",
        "\n",
        "# Print the table\n",
        "print(\"Confusion Matrix:\")\n",
        "print(\"-----------------\")\n",
        "for row in table:\n",
        "    print(f\"{row[0]:<{max_width}} | {row[1]}\")\n",
        "\n",
        "print(\"-----------------\")\n",
        "# Calculate evaluation metrics\n",
        "accuracy = accuracy_score(y_test, y_pred_binary)\n",
        "precision = precision_score(y_test, y_pred_binary)\n",
        "recall = recall_score(y_test, y_pred_binary)\n",
        "f1 = f1_score(y_test, y_pred_binary)\n",
        "\n",
        "# Print the evaluation metrics\n",
        "print(f\"Accuracy: {accuracy:.4f}\")\n",
        "print(f\"Precision: {precision:.4f}\")\n",
        "print(f\"Recall: {recall:.4f}\")\n",
        "print(f\"F1-Score: {f1:.4f}\")\n",
        "print(\"-----------------\")"
      ],
      "metadata": {
        "colab": {
          "base_uri": "https://localhost:8080/"
        },
        "outputId": "4d1a682d-5303-4304-cd1c-bafdb8b4e7c8",
        "id": "mSH6fVsMho6c"
      },
      "execution_count": null,
      "outputs": [
        {
          "output_type": "stream",
          "name": "stdout",
          "text": [
            "Confusion Matrix:\n",
            "-----------------\n",
            "True Positives  | 53\n",
            "False Positives | 0\n",
            "True Negatives  | 40\n",
            "False Negatives | 7\n",
            "-----------------\n",
            "Accuracy: 0.9300\n",
            "Precision: 1.0000\n",
            "Recall: 0.8833\n",
            "F1-Score: 0.9381\n",
            "-----------------\n"
          ]
        }
      ]
    },
    {
      "cell_type": "code",
      "source": [
        "# Mixed Sampling\n",
        "\n",
        "\n",
        "# Calculate the false positive rate (FPR) and true positive rate (TPR) for the ROC curve\n",
        "fpr1, tpr1, thresholds1 = roc_curve(y_test, y_pred)\n",
        "\n",
        "# Calculate the area under the ROC curve (AUC)\n",
        "roc_auc1 = auc(fpr1, tpr1)\n",
        "\n",
        "# Plot the ROC curve\n",
        "plt.figure()\n",
        "plt.plot(fpr1, tpr1, color='#E7B800', lw=2, label='with conf (area = %0.2f)' % roc_auc1)\n",
        "plt.plot(fpr, tpr, color='#00AFBB', lw=2, label='without conf (area = %0.2f)' % roc_auc)\n",
        "plt.plot([0, 1], [0, 1], color='black', lw=2, linestyle='--')\n",
        "plt.xlim([0.0, 1.0])\n",
        "plt.ylim([0.0, 1.05])\n",
        "plt.xlabel('False Positive Rate')\n",
        "plt.ylabel('True Positive Rate')\n",
        "plt.title('Receiver Operating Characteristic')\n",
        "plt.legend(loc=\"lower right\")\n",
        "\n",
        "plt.savefig('CNN_mixedsampling.png', dpi=300)\n",
        "plt.show()"
      ],
      "metadata": {
        "colab": {
          "base_uri": "https://localhost:8080/",
          "height": 472
        },
        "outputId": "397ed578-d84b-4e98-ae26-59f5c2789110",
        "id": "pmlOCz2Cho6d"
      },
      "execution_count": null,
      "outputs": [
        {
          "output_type": "display_data",
          "data": {
            "text/plain": [
              "<Figure size 640x480 with 1 Axes>"
            ],
            "image/png": "[encoded data removed]"
          },
          "metadata": {}
        }
      ]
    },
    {
      "cell_type": "code",
      "source": [
        "# Calculate baseline accuracy\n",
        "y_pred = model.predict(X_test)\n",
        "y_pred_binary = [1 if p >= 0.5 else 0 for p in y_pred]\n",
        "baseline_accuracy = accuracy_score(y_test, y_pred_binary)\n",
        "\n",
        "# Calculate feature importance using permutation importance\n",
        "num_permutations = 100\n",
        "feature_importance = np.zeros(X_test.shape[1])\n",
        "\n",
        "for feature in range(X_test.shape[1]):\n",
        "    X_test_permuted = X_test.copy()\n",
        "    np.random.shuffle(X_test_permuted[:, feature])\n",
        "    y_pred_permuted = model.predict(X_test_permuted)\n",
        "    y_pred_binary_permuted = [1 if p >= 0.5 else 0 for p in y_pred_permuted]\n",
        "    permuted_accuracy = accuracy_score(y_test, y_pred_binary_permuted)\n",
        "    feature_importance[feature] = baseline_accuracy - permuted_accuracy\n",
        "\n",
        "# Normalize feature importance\n",
        "feature_importance /= np.sum(feature_importance)\n",
        "\n",
        "# Print feature importance\n",
        "for i, importance in enumerate(feature_importance):\n",
        "    print(f'Feature {i+1} importance: {importance}')\n"
      ],
      "metadata": {
        "colab": {
          "base_uri": "https://localhost:8080/"
        },
        "outputId": "8e394c61-5ece-493c-831b-a4e2e21a83bc",
        "id": "UAeDDHpxho6d"
      },
      "execution_count": null,
      "outputs": [
        {
          "output_type": "stream",
          "name": "stdout",
          "text": [
            "4/4 [==============================] - 0s 2ms/step\n",
            "4/4 [==============================] - 0s 3ms/step\n",
            "4/4 [==============================] - 0s 3ms/step\n",
            "4/4 [==============================] - 0s 3ms/step\n",
            "4/4 [==============================] - 0s 2ms/step\n",
            "4/4 [==============================] - 0s 2ms/step\n",
            "4/4 [==============================] - 0s 2ms/step\n",
            "4/4 [==============================] - 0s 3ms/step\n",
            "Feature 1 importance: 0.08771929824561407\n",
            "Feature 2 importance: 0.15789473684210534\n",
            "Feature 3 importance: 0.2280701754385964\n",
            "Feature 4 importance: 0.2456140350877192\n",
            "Feature 5 importance: 0.1403508771929825\n",
            "Feature 6 importance: 0.07017543859649125\n",
            "Feature 7 importance: 0.07017543859649125\n"
          ]
        }
      ]
    },
    {
      "cell_type": "markdown",
      "source": [
        "## **XgBoost Without amino acids (Mixed sampling)**"
      ],
      "metadata": {
        "id": "erHptv1_-MUT"
      }
    },
    {
      "cell_type": "code",
      "source": [
        "import xgboost as xgb\n",
        "\n",
        "# Load the training data from a text file\n",
        "data = np.loadtxt('/content/mixfinal.txt')\n",
        "\n",
        "# Split the data into features (X) and labels (y)\n",
        "X_tr = data[:, [7, 9, 10, 11, 12, 13, 14]\n",
        "]\n",
        "y_tr = data[:,0]\n",
        "\n",
        "X_train1 = X_tr[100:]\n",
        "X_test1 = X_tr[:100]\n",
        "y_train = y_tr[100:]\n",
        "y_test = y_tr[:100]\n",
        "\n",
        "# Apply Z-score normalization to each column\n",
        "X_train = zscore(X_train1, axis=0)\n",
        "X_test = zscore(X_test1, axis=0)\n",
        "\n",
        "# Convert the data into DMatrix format for XGBoost\n",
        "dtrain = xgb.DMatrix(X_train, label=y_train)\n",
        "dtest = xgb.DMatrix(X_test, label=y_test)\n",
        "\n",
        "\n",
        "# Set the XGBoost parameters\n",
        "params = {\n",
        "    'objective': 'binary:logistic',\n",
        "    'eval_metric': 'logloss',\n",
        "    'learning_rate': 0.1,\n",
        "    'max_depth': 5,\n",
        "    'reg_alpha': 0.007,\n",
        "    'reg_lambda': 0.1,\n",
        "    'gamma': 0.5\n",
        "}\n",
        "\n",
        "\n",
        "# Train the XGBoost model\n",
        "num_rounds = 100\n",
        "xgb_model = xgb.train(params, dtrain, num_rounds)\n",
        "\n",
        "# Obtain predicted probabilities for the positive class\n",
        "y_pred_proba = xgb_model.predict(dtest)\n",
        "\n",
        "letpara = ['allow_dis', 'asa_surface', 'foldX_ddG', 'normScore', 'address_contact', 'hbond', 'modeller_short_contact']\n",
        "\n",
        "# Get the graphviz representation of the first tree\n",
        "xgb_tree = xgb.to_graphviz(xgb_model, num_trees=0)\n",
        "\n",
        "# Get the DOT source code from the graphviz tree\n",
        "dot_source = xgb_tree.source\n",
        "\n",
        "# Modify the node labels in the DOT source code\n",
        "for feature_index, feature_name in enumerate(letpara):\n",
        "    dot_source = dot_source.replace(f'f{feature_index}', feature_name)\n",
        "\n",
        "# Create a new graphviz.Source object with the modified DOT source code\n",
        "modified_tree = graphviz.Source(dot_source)\n",
        "#print(modified_tree)\n",
        "# Render and display the modified tree\n",
        "modified_tree.format = 'png'\n",
        "modified_tree.render('xgboost_tree_mixedsampling_0', view=True)\n",
        "\n",
        "'''\n",
        "# plot single tree\n",
        "plot_tree(xgb_model)\n",
        "plt.savefig('xgboost_mixedsamplingtree1.png', dpi=300)\n",
        "plt.show()\n",
        "'''\n",
        "\n",
        "# Calculate the false positive rate (FPR) and true positive rate (TPR) for the ROC curve\n",
        "fpr, tpr, thresholds = roc_curve(y_test, y_pred_proba)\n",
        "\n",
        "# Calculate the area under the ROC curve (AUC)\n",
        "roc_auc = auc(fpr, tpr)\n",
        "\n",
        "#############\n",
        "\n",
        "\n",
        "\n",
        "y_pred_binary = [1 if p >= 0.5 else 0 for p in y_pred_proba]\n",
        "\n",
        "y_pred_binary = np.array(y_pred_binary)\n",
        "\n",
        "# Calculate the true positives, false positives, true negatives, and false negatives\n",
        "\n",
        "true_positives = np.sum((y_pred_binary == 1) & (y_test == 1))\n",
        "false_positives = np.sum((y_pred_binary == 1) & (y_test == 0))\n",
        "true_negatives = np.sum((y_pred_binary == 0) & (y_test == 0))\n",
        "false_negatives = np.sum((y_pred_binary == 0) & (y_test == 1))\n",
        "\n",
        "# Create the table\n",
        "table = [\n",
        "    [\"True Positives\", true_positives],\n",
        "    [\"False Positives\", false_positives],\n",
        "    [\"True Negatives\", true_negatives],\n",
        "    [\"False Negatives\", false_negatives]\n",
        "]\n",
        "\n",
        "# Calculate the maximum width of the first column\n",
        "max_width = max(len(row[0]) for row in table)\n",
        "\n",
        "# Print the table\n",
        "print(\"Confusion Matrix:\")\n",
        "print(\"-----------------\")\n",
        "for row in table:\n",
        "    print(f\"{row[0]:<{max_width}} | {row[1]}\")\n",
        "\n",
        "print(\"-----------------\")\n",
        "# Calculate evaluation metrics\n",
        "accuracy = accuracy_score(y_test, y_pred_binary)\n",
        "precision = precision_score(y_test, y_pred_binary)\n",
        "recall = recall_score(y_test, y_pred_binary)\n",
        "f1 = f1_score(y_test, y_pred_binary)\n",
        "\n",
        "# Print the evaluation metrics\n",
        "print(f\"Accuracy: {accuracy:.4f}\")\n",
        "print(f\"Precision: {precision:.4f}\")\n",
        "print(f\"Recall: {recall:.4f}\")\n",
        "print(f\"F1-Score: {f1:.4f}\")\n",
        "print(\"-----------------\")\n",
        "\n",
        "\n",
        "\n",
        "\n",
        "\n",
        "################\n",
        "\n",
        "##############################################\n",
        "\n",
        "\n",
        "\n",
        "# Load the training data from a text file\n",
        "data = np.loadtxt('/content/mixfinal.txt')\n",
        "\n",
        "# Split the data into features (X) and labels (y)\n",
        "#X_tr = data[:, [4, 8, 9, 10, 11, 12, 13, 14, 15, 16, 17, 18, 19, 20, 21, 22, 23, 24, 25, 26, 27, 28, 29, 30, 31, 32, 33]]\n",
        "X_tr = data[:, [1, 9, 10, 11, 12, 13, 14]\n",
        "]\n",
        "y_tr = data[:,0]\n",
        "\n",
        "X_train1 = X_tr[100:]\n",
        "X_test1 = X_tr[:100]\n",
        "y_train = y_tr[100:]\n",
        "y_test = y_tr[:100]\n",
        "\n",
        "\n",
        "# Apply Z-score normalization to each column\n",
        "X_train = zscore(X_train1, axis=0)\n",
        "X_test = zscore(X_test1, axis=0)\n",
        "\n",
        "\n",
        "# Convert the data into DMatrix format for XGBoost\n",
        "dtrain = xgb.DMatrix(X_train, label=y_train)\n",
        "dtest = xgb.DMatrix(X_test, label=y_test)\n",
        "\n",
        "\n",
        "# Set the XGBoost parameters\n",
        "params = {\n",
        "    'objective': 'binary:logistic',\n",
        "    'eval_metric': 'logloss',\n",
        "    'learning_rate': 0.1,\n",
        "    'max_depth': 5,\n",
        "    'reg_alpha': 0.007,\n",
        "    'reg_lambda': 0.1,\n",
        "    'gamma': 0.5\n",
        "}\n",
        "\n",
        "\n",
        "# Train the XGBoost model\n",
        "num_rounds = 100\n",
        "xgb_model = xgb.train(params, dtrain, num_rounds)\n",
        "\n",
        "letpara1 = ['allow_dis', 'asa_surface', 'foldX_ddG', 'normScore', 'address_contact', 'hbond', 'modeller_short_contact']\n",
        "\n",
        "# Get the graphviz representation of the first tree\n",
        "xgb_tree = xgb.to_graphviz(xgb_model, num_trees=1)\n",
        "\n",
        "# Get the DOT source code from the graphviz tree\n",
        "dot_source = xgb_tree.source\n",
        "\n",
        "# Modify the node labels in the DOT source code\n",
        "for feature_index, feature_name in enumerate(letpara1):\n",
        "    dot_source = dot_source.replace(f'f{feature_index}', feature_name)\n",
        "\n",
        "# Create a new graphviz.Source object with the modified DOT source code\n",
        "modified_tree = graphviz.Source(dot_source)\n",
        "\n",
        "# Render and display the modified tree\n",
        "modified_tree.format = 'png'\n",
        "modified_tree.render('xgboost_tree_mixedsampling_1', view=True)\n",
        "#print(modified_tree)\n",
        "\n",
        "'''\n",
        "# plot single tree\n",
        "plot_tree(xgb_model)\n",
        "plt.savefig('xgboost_mixedsamplingtree2.png', dpi=300)\n",
        "plt.show()\n",
        "'''\n",
        "# Obtain predicted probabilities for the positive class\n",
        "y_pred_proba = xgb_model.predict(dtest)\n",
        "#############\n",
        "\n",
        "\n",
        "\n",
        "y_pred_binary = [1 if p >= 0.5 else 0 for p in y_pred_proba]\n",
        "\n",
        "y_pred_binary = np.array(y_pred_binary)\n",
        "\n",
        "# Calculate the true positives, false positives, true negatives, and false negatives\n",
        "\n",
        "true_positives = np.sum((y_pred_binary == 1) & (y_test == 1))\n",
        "false_positives = np.sum((y_pred_binary == 1) & (y_test == 0))\n",
        "true_negatives = np.sum((y_pred_binary == 0) & (y_test == 0))\n",
        "false_negatives = np.sum((y_pred_binary == 0) & (y_test == 1))\n",
        "\n",
        "# Create the table\n",
        "table = [\n",
        "    [\"True Positives\", true_positives],\n",
        "    [\"False Positives\", false_positives],\n",
        "    [\"True Negatives\", true_negatives],\n",
        "    [\"False Negatives\", false_negatives]\n",
        "]\n",
        "\n",
        "# Calculate the maximum width of the first column\n",
        "max_width = max(len(row[0]) for row in table)\n",
        "\n",
        "# Print the table\n",
        "print(\"Confusion Matrix:\")\n",
        "print(\"-----------------\")\n",
        "for row in table:\n",
        "    print(f\"{row[0]:<{max_width}} | {row[1]}\")\n",
        "\n",
        "print(\"-----------------\")\n",
        "# Calculate evaluation metrics\n",
        "accuracy = accuracy_score(y_test, y_pred_binary)\n",
        "precision = precision_score(y_test, y_pred_binary)\n",
        "recall = recall_score(y_test, y_pred_binary)\n",
        "f1 = f1_score(y_test, y_pred_binary)\n",
        "\n",
        "# Print the evaluation metrics\n",
        "print(f\"Accuracy: {accuracy:.4f}\")\n",
        "print(f\"Precision: {precision:.4f}\")\n",
        "print(f\"Recall: {recall:.4f}\")\n",
        "print(f\"F1-Score: {f1:.4f}\")\n",
        "print(\"-----------------\")\n",
        "\n",
        "\n",
        "#####################################\n",
        "\n",
        "\n",
        "# Calculate the false positive rate (FPR) and true positive rate (TPR) for the ROC curve\n",
        "fpr3, tpr3, thresholds3 = roc_curve(y_test, y_pred_proba)\n",
        "\n",
        "# Calculate the area under the ROC curve (AUC)\n",
        "roc_auc3 = auc(fpr3, tpr3)\n",
        "\n",
        "# Plot the ROC curve\n",
        "plt.figure()\n",
        "plt.plot(fpr3, tpr3, color='#E7B800', lw=2, label='with conf (area = %0.2f)' % roc_auc3)\n",
        "plt.plot(fpr, tpr, color='#00AFBB', lw=2, label='without conf (area = %0.2f)' % roc_auc)\n",
        "plt.plot([0, 1], [0, 1], color='black', lw=2, linestyle='--')\n",
        "plt.xlim([0.0, 1.0])\n",
        "plt.ylim([0.0, 1.05])\n",
        "plt.xlabel('False Positive Rate')\n",
        "plt.ylabel('True Positive Rate')\n",
        "plt.title('Receiver Operating Characteristic')\n",
        "plt.legend(loc=\"lower right\")\n",
        "\n",
        "plt.savefig('xgboost_mixedsampling.png', dpi=1000)\n",
        "plt.show()"
      ],
      "metadata": {
        "id": "j1kXKpIJI_J6",
        "colab": {
          "base_uri": "https://localhost:8080/",
          "height": 889
        },
        "outputId": "f016198c-4932-4846-bf21-6d491ec31597"
      },
      "execution_count": null,
      "outputs": [
        {
          "output_type": "stream",
          "name": "stdout",
          "text": [
            "Confusion Matrix:\n",
            "-----------------\n",
            "True Positives  | 48\n",
            "False Positives | 16\n",
            "True Negatives  | 24\n",
            "False Negatives | 12\n",
            "-----------------\n",
            "Accuracy: 0.7200\n",
            "Precision: 0.7500\n",
            "Recall: 0.8000\n",
            "F1-Score: 0.7742\n",
            "-----------------\n",
            "Confusion Matrix:\n",
            "-----------------\n",
            "True Positives  | 52\n",
            "False Positives | 15\n",
            "True Negatives  | 25\n",
            "False Negatives | 8\n",
            "-----------------\n",
            "Accuracy: 0.7700\n",
            "Precision: 0.7761\n",
            "Recall: 0.8667\n",
            "F1-Score: 0.8189\n",
            "-----------------\n"
          ]
        },
        {
          "output_type": "display_data",
          "data": {
            "text/plain": [
              "<Figure size 640x480 with 1 Axes>"
            ],
            "image/png": "[encoded data removed]"
          },
          "metadata": {}
        }
      ]
    },
    {
      "cell_type": "markdown",
      "source": [
        "## **XgBoost With amino acids (Mixed sampling)**"
      ],
      "metadata": {
        "id": "EyXd0QgSUTqL"
      }
    },
    {
      "cell_type": "code",
      "source": [
        "import xgboost as xgb\n",
        "\n",
        "# Load the training data from a text file\n",
        "data = np.loadtxt('/content/mixfinal.txt')\n",
        "\n",
        "# Split the data into features (X) and labels (y)\n",
        "X_tr = data[:, [9, 10, 11, 12, 13, 14, 15, 16, 17, 18, 19, 20, 21, 22, 23, 24, 25, 26, 27, 28, 29, 30, 31, 32, 33, 34]]\n",
        "#X_tr = data[:, [9, 10, 11, 12, 13, 14]]\n",
        "\n",
        "y_tr = data[:,0]\n",
        "\n",
        "X_train1 = X_tr[100:]\n",
        "X_test1 = X_tr[:100]\n",
        "y_train = y_tr[100:]\n",
        "y_test = y_tr[:100]\n",
        "\n",
        "# Apply Z-score normalization to each column\n",
        "X_train = zscore(X_train1, axis=0)\n",
        "X_test = zscore(X_test1, axis=0)\n",
        "\n",
        "# Convert the data into DMatrix format for XGBoost\n",
        "dtrain = xgb.DMatrix(X_train, label=y_train)\n",
        "dtest = xgb.DMatrix(X_test, label=y_test)\n",
        "\n",
        "\n",
        "params = {\n",
        "    'objective': 'binary:logistic',\n",
        "    'eval_metric': 'logloss',\n",
        "    'learning_rate': 0.1,\n",
        "    'max_depth': 8,\n",
        "    'reg_alpha': 0.001,\n",
        "    'reg_lambda': 0.1,\n",
        "    'gamma': 0.6\n",
        "\n",
        "}\n",
        "\n",
        "\n",
        "\n",
        "# Train the XGBoost model\n",
        "num_rounds = 100\n",
        "xgb_model = xgb.train(params, dtrain, num_rounds)\n",
        "\n",
        "# Obtain predicted probabilities for the positive class\n",
        "y_pred_proba = xgb_model.predict(dtest)\n",
        "\n",
        "letpara = ['asa_surface', 'foldX_ddG', 'normScore', 'address_contact', 'hbond', 'modeller_short_contact', 'A',\t'C', 'D', 'E', 'F', 'G', 'H',\t'I', 'K',\t'L', 'M',\t'N', 'P',\t'Q', 'R', 'S', 'T',\t'V', 'W', 'Y']\n",
        "\n",
        "# Get the graphviz representation of the first tree\n",
        "xgb_tree = xgb.to_graphviz(xgb_model, num_trees=0)\n",
        "\n",
        "# Get the DOT source code from the graphviz tree\n",
        "dot_source = xgb_tree.source\n",
        "\n",
        "# Modify the node labels in the DOT source code\n",
        "for feature_index, feature_name in enumerate(letpara):\n",
        "    dot_source = dot_source.replace(f'f{feature_index}', feature_name)\n",
        "\n",
        "# Create a new graphviz.Source object with the modified DOT source code\n",
        "modified_tree = graphviz.Source(dot_source)\n",
        "#print(modified_tree)\n",
        "# Render and display the modified tree\n",
        "modified_tree.format = 'png'\n",
        "modified_tree.render('xgboost_tree_mixedsampling_0', view=True)\n",
        "\n",
        "# Calculate the false positive rate (FPR) and true positive rate (TPR) for the ROC curve\n",
        "fpr, tpr, thresholds = roc_curve(y_test, y_pred_proba)\n",
        "\n",
        "# Calculate the area under the ROC curve (AUC)\n",
        "roc_auc = auc(fpr, tpr)\n",
        "\n",
        "#############\n",
        "\n",
        "\n",
        "\n",
        "y_pred_binary = [1 if p >= 0.5 else 0 for p in y_pred_proba]\n",
        "\n",
        "y_pred_binary = np.array(y_pred_binary)\n",
        "\n",
        "# Calculate the true positives, false positives, true negatives, and false negatives\n",
        "\n",
        "true_positives = np.sum((y_pred_binary == 1) & (y_test == 1))\n",
        "false_positives = np.sum((y_pred_binary == 1) & (y_test == 0))\n",
        "true_negatives = np.sum((y_pred_binary == 0) & (y_test == 0))\n",
        "false_negatives = np.sum((y_pred_binary == 0) & (y_test == 1))\n",
        "\n",
        "# Create the table\n",
        "table = [\n",
        "    [\"True Positives\", true_positives],\n",
        "    [\"False Positives\", false_positives],\n",
        "    [\"True Negatives\", true_negatives],\n",
        "    [\"False Negatives\", false_negatives]\n",
        "]\n",
        "\n",
        "# Calculate the maximum width of the first column\n",
        "max_width = max(len(row[0]) for row in table)\n",
        "\n",
        "# Print the table\n",
        "print(\"Confusion Matrix:\")\n",
        "print(\"-----------------\")\n",
        "for row in table:\n",
        "    print(f\"{row[0]:<{max_width}} | {row[1]}\")\n",
        "\n",
        "print(\"-----------------\")\n",
        "# Calculate evaluation metrics\n",
        "accuracy = accuracy_score(y_test, y_pred_binary)\n",
        "precision = precision_score(y_test, y_pred_binary)\n",
        "recall = recall_score(y_test, y_pred_binary)\n",
        "f1 = f1_score(y_test, y_pred_binary)\n",
        "\n",
        "# Print the evaluation metrics\n",
        "print(f\"Accuracy: {accuracy:.4f}\")\n",
        "print(f\"Precision: {precision:.4f}\")\n",
        "print(f\"Recall: {recall:.4f}\")\n",
        "print(f\"F1-Score: {f1:.4f}\")\n",
        "print(\"-----------------\")\n",
        "\n",
        "\n",
        "\n",
        "\n",
        "\n",
        "################\n",
        "\n",
        "##############################################\n",
        "\n",
        "\n",
        "\n",
        "# Load the training data from a text file\n",
        "data = np.loadtxt('/content/mixfinal.txt')\n",
        "\n",
        "# Split the data into features (X) and labels (y)\n",
        "X_tr = data[:, [1, 9, 10, 11, 12, 13, 14, 15, 16, 17, 18, 19, 20, 21, 22, 23, 24, 25, 26, 27, 28, 29, 30, 31, 32, 33, 34]]\n",
        "#X_tr = data[:, [1, 9, 10, 11, 12, 13, 14]]\n",
        "\n",
        "y_tr = data[:,0]\n",
        "\n",
        "X_train1 = X_tr[100:]\n",
        "X_test1 = X_tr[:100]\n",
        "y_train = y_tr[100:]\n",
        "y_test = y_tr[:100]\n",
        "\n",
        "\n",
        "# Apply Z-score normalization to each column\n",
        "X_train = zscore(X_train1, axis=0)\n",
        "X_test = zscore(X_test1, axis=0)\n",
        "\n",
        "\n",
        "# Convert the data into DMatrix format for XGBoost\n",
        "dtrain = xgb.DMatrix(X_train, label=y_train)\n",
        "dtest = xgb.DMatrix(X_test, label=y_test)\n",
        "\n",
        "params = {\n",
        "    'objective': 'binary:logistic',\n",
        "    'eval_metric': 'logloss',\n",
        "    'learning_rate': 0.1,\n",
        "    'max_depth': 8,\n",
        "    'reg_alpha': 0.001,\n",
        "    'reg_lambda': 0.1,\n",
        "    'gamma': 0.6\n",
        "\n",
        "}\n",
        "\n",
        "# Train the XGBoost model , 'A',\t'C', 'D', 'E', 'F', 'G', 'H',\t'I', 'K',\t'L', 'M',\t'N', 'P',\t'Q', 'R', 'S', 'T',\t'V', 'W', 'Y'\n",
        "num_rounds = 100\n",
        "xgb_model = xgb.train(params, dtrain, num_rounds)\n",
        "\n",
        "letpara1 = ['allowed_disa', 'asa_surface', 'foldX_ddG', 'normScore', 'address_contact', 'hbond', 'modeller_short_contact', 'A',\t'C', 'D', 'E', 'F', 'G', 'H',\t'I', 'K',\t'L', 'M',\t'N', 'P',\t'Q', 'R', 'S', 'T',\t'V', 'W', 'Y']\n",
        "\n",
        "# Get the graphviz representation of the first tree\n",
        "xgb_tree = xgb.to_graphviz(xgb_model, num_trees=1)\n",
        "\n",
        "# Get the DOT source code from the graphviz tree\n",
        "dot_source = xgb_tree.source\n",
        "\n",
        "# Modify the node labels in the DOT source code\n",
        "for feature_index, feature_name in enumerate(letpara1):\n",
        "    dot_source = dot_source.replace(f'f{feature_index}', feature_name)\n",
        "\n",
        "# Create a new graphviz.Source object with the modified DOT source code\n",
        "modified_tree = graphviz.Source(dot_source)\n",
        "\n",
        "# Render and display the modified tree\n",
        "modified_tree.format = 'png'\n",
        "modified_tree.render('xgboost_tree_mixedsampling_1', view=True)\n",
        "#print(modified_tree)\n",
        "\n",
        "# Obtain predicted probabilities for the positive class\n",
        "y_pred_proba = xgb_model.predict(dtest)\n",
        "#############\n",
        "\n",
        "\n",
        "\n",
        "y_pred_binary = [1 if p >= 0.5 else 0 for p in y_pred_proba]\n",
        "\n",
        "y_pred_binary = np.array(y_pred_binary)\n",
        "\n",
        "# Calculate the true positives, false positives, true negatives, and false negatives\n",
        "\n",
        "true_positives = np.sum((y_pred_binary == 1) & (y_test == 1))\n",
        "false_positives = np.sum((y_pred_binary == 1) & (y_test == 0))\n",
        "true_negatives = np.sum((y_pred_binary == 0) & (y_test == 0))\n",
        "false_negatives = np.sum((y_pred_binary == 0) & (y_test == 1))\n",
        "\n",
        "# Create the table\n",
        "table = [\n",
        "    [\"True Positives\", true_positives],\n",
        "    [\"False Positives\", false_positives],\n",
        "    [\"True Negatives\", true_negatives],\n",
        "    [\"False Negatives\", false_negatives]\n",
        "]\n",
        "\n",
        "# Calculate the maximum width of the first column\n",
        "max_width = max(len(row[0]) for row in table)\n",
        "\n",
        "# Print the table\n",
        "print(\"Confusion Matrix:\")\n",
        "print(\"-----------------\")\n",
        "for row in table:\n",
        "    print(f\"{row[0]:<{max_width}} | {row[1]}\")\n",
        "\n",
        "print(\"-----------------\")\n",
        "# Calculate evaluation metrics\n",
        "accuracy = accuracy_score(y_test, y_pred_binary)\n",
        "precision = precision_score(y_test, y_pred_binary)\n",
        "recall = recall_score(y_test, y_pred_binary)\n",
        "f1 = f1_score(y_test, y_pred_binary)\n",
        "\n",
        "# Print the evaluation metrics\n",
        "print(f\"Accuracy: {accuracy:.4f}\")\n",
        "print(f\"Precision: {precision:.4f}\")\n",
        "print(f\"Recall: {recall:.4f}\")\n",
        "print(f\"F1-Score: {f1:.4f}\")\n",
        "print(\"-----------------\")\n",
        "\n",
        "\n",
        "#####################################\n",
        "\n",
        "\n",
        "# Calculate the false positive rate (FPR) and true positive rate (TPR) for the ROC curve\n",
        "fpr3, tpr3, thresholds3 = roc_curve(y_test, y_pred_proba)\n",
        "\n",
        "# Calculate the area under the ROC curve (AUC)\n",
        "roc_auc3 = auc(fpr3, tpr3)\n",
        "\n",
        "# Plot the ROC curve\n",
        "plt.figure()\n",
        "plt.plot(fpr3, tpr3, color='#E7B800', lw=2, label='with conf (area = %0.2f)' % roc_auc3)\n",
        "plt.plot(fpr, tpr, color='#00AFBB', lw=2, label='without conf (area = %0.2f)' % roc_auc)\n",
        "plt.plot([0, 1], [0, 1], color='black', lw=2, linestyle='--')\n",
        "plt.xlim([0.0, 1.0])\n",
        "plt.ylim([0.0, 1.05])\n",
        "plt.xlabel('False Positive Rate')\n",
        "plt.ylabel('True Positive Rate')\n",
        "plt.title('Receiver Operating Characteristic')\n",
        "plt.legend(loc=\"lower right\")\n",
        "\n",
        "plt.savefig('xgboost_mixedsampling_AA.png', dpi=1000)\n",
        "plt.show()"
      ],
      "metadata": {
        "colab": {
          "base_uri": "https://localhost:8080/",
          "height": 889
        },
        "id": "Wl8k-agbUUlL",
        "outputId": "e37e9217-e2a6-499d-df39-333ae564db8e"
      },
      "execution_count": null,
      "outputs": [
        {
          "output_type": "stream",
          "name": "stdout",
          "text": [
            "Confusion Matrix:\n",
            "-----------------\n",
            "True Positives  | 54\n",
            "False Positives | 10\n",
            "True Negatives  | 30\n",
            "False Negatives | 6\n",
            "-----------------\n",
            "Accuracy: 0.8400\n",
            "Precision: 0.8438\n",
            "Recall: 0.9000\n",
            "F1-Score: 0.8710\n",
            "-----------------\n",
            "Confusion Matrix:\n",
            "-----------------\n",
            "True Positives  | 55\n",
            "False Positives | 7\n",
            "True Negatives  | 33\n",
            "False Negatives | 5\n",
            "-----------------\n",
            "Accuracy: 0.8800\n",
            "Precision: 0.8871\n",
            "Recall: 0.9167\n",
            "F1-Score: 0.9016\n",
            "-----------------\n"
          ]
        },
        {
          "output_type": "display_data",
          "data": {
            "text/plain": [
              "<Figure size 640x480 with 1 Axes>"
            ],
            "image/png": "[encoded data removed]"
          },
          "metadata": {}
        }
      ]
    },
    {
      "cell_type": "markdown",
      "source": [
        "## **Code to find optimum parameters for XgBoost (Optional)**"
      ],
      "metadata": {
        "id": "_6RLOQLjVgzB"
      }
    },
    {
      "cell_type": "code",
      "source": [
        "# Load the training data from a text file\n",
        "data = np.loadtxt('/content/mixfinal.txt')\n",
        "\n",
        "# Split the data into features (X) and labels (y)\n",
        "X_tr = data[:, [1, 9, 10, 11, 12, 13, 14, 15, 16, 17, 18, 19, 20, 21, 22, 23, 24, 25, 26, 27, 28, 29, 30, 31, 32, 33, 34]]\n",
        "#X_tr = data[:, [1, 9, 10, 11, 12, 13, 14]]\n",
        "\n",
        "y_tr = data[:,0]\n",
        "\n",
        "X_train1 = X_tr[100:]\n",
        "X_test1 = X_tr[:100]\n",
        "y_train = y_tr[100:]\n",
        "y_test = y_tr[:100]\n",
        "\n",
        "\n",
        "# Apply Z-score normalization to each column\n",
        "X_train = zscore(X_train1, axis=0)\n",
        "X_test = zscore(X_test1, axis=0)"
      ],
      "metadata": {
        "id": "MsatLy3VmrTm"
      },
      "execution_count": null,
      "outputs": []
    },
    {
      "cell_type": "code",
      "source": [
        "# Define the parameter distributions for randomized search\n",
        "param_dist = {\n",
        "    'objective': ['binary:logistic'],\n",
        "    'eval_metric': ['logloss'],\n",
        "    'learning_rate': [0.1],\n",
        "    'max_depth': [5,7,6,8],\n",
        "    'reg_alpha': [0.007, 0.1, 1.0, 10.0, 0.01, 0.001],\n",
        "    'reg_lambda': [0.01, 0.1, 1.0, 10.0],\n",
        "    'gamma': [0, 0.1, 0.5, 1.0, 0.01, 0.6]\n",
        "}\n",
        "\n",
        "\n",
        "# Create an XGBoost classifier\n",
        "xgb_model1 = xgb.XGBClassifier()\n",
        "\n",
        "# Perform randomized search with cross-validation\n",
        "random_search1 = RandomizedSearchCV(xgb_model1, param_dist, n_iter=10, scoring='accuracy', cv=5)\n",
        "random_search1.fit(X_train, y_train)\n",
        "\n",
        "# Get the best parameter values and the corresponding model\n",
        "best_params = random_search1.best_params_\n",
        "best_model = random_search1.best_estimator_\n",
        "\n",
        "# Print the best parameter values\n",
        "print(\"Best Parameter Values:\")\n",
        "for param, value in best_params.items():\n",
        "    print(f\"{param}: {value}\")\n",
        "\n",
        "\n",
        "# Evaluate the best model on the validation set\n",
        "y_pred = best_model.predict(X_test)\n",
        "accuracy = accuracy_score(y_test, y_pred)\n",
        "print(f\"Best Model Accuracy: {accuracy}\")\n",
        "\n",
        "# Train the final model on the entire dataset using the best parameters\n",
        "final_model = xgb.XGBClassifier(**best_params)\n",
        "final_model.fit(X_train, y_train)"
      ],
      "metadata": {
        "colab": {
          "base_uri": "https://localhost:8080/",
          "height": 405
        },
        "id": "ZcQVHPzsP9cp",
        "outputId": "533b92c4-c1bf-44fc-9509-2619ff33922f"
      },
      "execution_count": null,
      "outputs": [
        {
          "output_type": "stream",
          "name": "stdout",
          "text": [
            "Best Parameter Values:\n",
            "reg_lambda: 0.1\n",
            "reg_alpha: 0.001\n",
            "objective: binary:logistic\n",
            "max_depth: 8\n",
            "learning_rate: 0.1\n",
            "gamma: 0.6\n",
            "eval_metric: logloss\n",
            "Best Model Accuracy: 0.88\n"
          ]
        },
        {
          "output_type": "execute_result",
          "data": {
            "text/plain": [
              "XGBClassifier(base_score=None, booster=None, callbacks=None,\n",
              "              colsample_bylevel=None, colsample_bynode=None,\n",
              "              colsample_bytree=None, early_stopping_rounds=None,\n",
              "              enable_categorical=False, eval_metric='logloss',\n",
              "              feature_types=None, gamma=0.6, gpu_id=None, grow_policy=None,\n",
              "              importance_type=None, interaction_constraints=None,\n",
              "              learning_rate=0.1, max_bin=None, max_cat_threshold=None,\n",
              "              max_cat_to_onehot=None, max_delta_step=None, max_depth=8,\n",
              "              max_leaves=None, min_child_weight=None, missing=nan,\n",
              "              monotone_constraints=None, n_estimators=100, n_jobs=None,\n",
              "              num_parallel_tree=None, predictor=None, random_state=None, ...)"
            ],
            "text/html": [
              "<style>#sk-container-id-1 {color: black;background-color: white;}#sk-container-id-1 pre{padding: 0;}#sk-container-id-1 div.sk-toggleable {background-color: white;}#sk-container-id-1 label.sk-toggleable__label {cursor: pointer;display: block;width: 100%;margin-bottom: 0;padding: 0.3em;box-sizing: border-box;text-align: center;}#sk-container-id-1 label.sk-toggleable__label-arrow:before {content: \"▸\";float: left;margin-right: 0.25em;color: #696969;}#sk-container-id-1 label.sk-toggleable__label-arrow:hover:before {color: black;}#sk-container-id-1 div.sk-estimator:hover label.sk-toggleable__label-arrow:before {color: black;}#sk-container-id-1 div.sk-toggleable__content {max-height: 0;max-width: 0;overflow: hidden;text-align: left;background-color: #f0f8ff;}#sk-container-id-1 div.sk-toggleable__content pre {margin: 0.2em;color: black;border-radius: 0.25em;background-color: #f0f8ff;}#sk-container-id-1 input.sk-toggleable__control:checked~div.sk-toggleable__content {max-height: 200px;max-width: 100%;overflow: auto;}#sk-container-id-1 input.sk-toggleable__control:checked~label.sk-toggleable__label-arrow:before {content: \"▾\";}#sk-container-id-1 div.sk-estimator input.sk-toggleable__control:checked~label.sk-toggleable__label {background-color: #d4ebff;}#sk-container-id-1 div.sk-label input.sk-toggleable__control:checked~label.sk-toggleable__label {background-color: #d4ebff;}#sk-container-id-1 input.sk-hidden--visually {border: 0;clip: rect(1px 1px 1px 1px);clip: rect(1px, 1px, 1px, 1px);height: 1px;margin: -1px;overflow: hidden;padding: 0;position: absolute;width: 1px;}#sk-container-id-1 div.sk-estimator {font-family: monospace;background-color: #f0f8ff;border: 1px dotted black;border-radius: 0.25em;box-sizing: border-box;margin-bottom: 0.5em;}#sk-container-id-1 div.sk-estimator:hover {background-color: #d4ebff;}#sk-container-id-1 div.sk-parallel-item::after {content: \"\";width: 100%;border-bottom: 1px solid gray;flex-grow: 1;}#sk-container-id-1 div.sk-label:hover label.sk-toggleable__label {background-color: #d4ebff;}#sk-container-id-1 div.sk-serial::before {content: \"\";position: absolute;border-left: 1px solid gray;box-sizing: border-box;top: 0;bottom: 0;left: 50%;z-index: 0;}#sk-container-id-1 div.sk-serial {display: flex;flex-direction: column;align-items: center;background-color: white;padding-right: 0.2em;padding-left: 0.2em;position: relative;}#sk-container-id-1 div.sk-item {position: relative;z-index: 1;}#sk-container-id-1 div.sk-parallel {display: flex;align-items: stretch;justify-content: center;background-color: white;position: relative;}#sk-container-id-1 div.sk-item::before, #sk-container-id-1 div.sk-parallel-item::before {content: \"\";position: absolute;border-left: 1px solid gray;box-sizing: border-box;top: 0;bottom: 0;left: 50%;z-index: -1;}#sk-container-id-1 div.sk-parallel-item {display: flex;flex-direction: column;z-index: 1;position: relative;background-color: white;}#sk-container-id-1 div.sk-parallel-item:first-child::after {align-self: flex-end;width: 50%;}#sk-container-id-1 div.sk-parallel-item:last-child::after {align-self: flex-start;width: 50%;}#sk-container-id-1 div.sk-parallel-item:only-child::after {width: 0;}#sk-container-id-1 div.sk-dashed-wrapped {border: 1px dashed gray;margin: 0 0.4em 0.5em 0.4em;box-sizing: border-box;padding-bottom: 0.4em;background-color: white;}#sk-container-id-1 div.sk-label label {font-family: monospace;font-weight: bold;display: inline-block;line-height: 1.2em;}#sk-container-id-1 div.sk-label-container {text-align: center;}#sk-container-id-1 div.sk-container {/* jupyter's `normalize.less` sets `[hidden] { display: none; }` but bootstrap.min.css set `[hidden] { display: none !important; }` so we also need the `!important` here to be able to override the default hidden behavior on the sphinx rendered scikit-learn.org. See: https://github.com/scikit-learn/scikit-learn/issues/21755 */display: inline-block !important;position: relative;}#sk-container-id-1 div.sk-text-repr-fallback {display: none;}</style><div id=\"sk-container-id-1\" class=\"sk-top-container\"><div class=\"sk-text-repr-fallback\"><pre>XGBClassifier(base_score=None, booster=None, callbacks=None,\n",
              "              colsample_bylevel=None, colsample_bynode=None,\n",
              "              colsample_bytree=None, early_stopping_rounds=None,\n",
              "              enable_categorical=False, eval_metric=&#x27;logloss&#x27;,\n",
              "              feature_types=None, gamma=0.6, gpu_id=None, grow_policy=None,\n",
              "              importance_type=None, interaction_constraints=None,\n",
              "              learning_rate=0.1, max_bin=None, max_cat_threshold=None,\n",
              "              max_cat_to_onehot=None, max_delta_step=None, max_depth=8,\n",
              "              max_leaves=None, min_child_weight=None, missing=nan,\n",
              "              monotone_constraints=None, n_estimators=100, n_jobs=None,\n",
              "              num_parallel_tree=None, predictor=None, random_state=None, ...)</pre><b>In a Jupyter environment, please rerun this cell to show the HTML representation or trust the notebook. <br />On GitHub, the HTML representation is unable to render, please try loading this page with nbviewer.org.</b></div><div class=\"sk-container\" hidden><div class=\"sk-item\"><div class=\"sk-estimator sk-toggleable\"><input class=\"sk-toggleable__control sk-hidden--visually\" id=\"sk-estimator-id-1\" type=\"checkbox\" checked><label for=\"sk-estimator-id-1\" class=\"sk-toggleable__label sk-toggleable__label-arrow\">XGBClassifier</label><div class=\"sk-toggleable__content\"><pre>XGBClassifier(base_score=None, booster=None, callbacks=None,\n",
              "              colsample_bylevel=None, colsample_bynode=None,\n",
              "              colsample_bytree=None, early_stopping_rounds=None,\n",
              "              enable_categorical=False, eval_metric=&#x27;logloss&#x27;,\n",
              "              feature_types=None, gamma=0.6, gpu_id=None, grow_policy=None,\n",
              "              importance_type=None, interaction_constraints=None,\n",
              "              learning_rate=0.1, max_bin=None, max_cat_threshold=None,\n",
              "              max_cat_to_onehot=None, max_delta_step=None, max_depth=8,\n",
              "              max_leaves=None, min_child_weight=None, missing=nan,\n",
              "              monotone_constraints=None, n_estimators=100, n_jobs=None,\n",
              "              num_parallel_tree=None, predictor=None, random_state=None, ...)</pre></div></div></div></div></div>"
            ]
          },
          "metadata": {},
          "execution_count": 43
        }
      ]
    },
    {
      "cell_type": "markdown",
      "source": [
        "## **Getting feature importance (Optional)**"
      ],
      "metadata": {
        "id": "JT3c9xCTWGBU"
      }
    },
    {
      "cell_type": "code",
      "source": [
        "y_pred_binary = [1 if p >= 0.5 else 0 for p in y_pred_proba]\n",
        "\n",
        "# Calculate accuracy of the model\n",
        "accuracy = accuracy_score(y_test, y_pred_binary)\n",
        "print(f'Accuracy: {accuracy}')"
      ],
      "metadata": {
        "colab": {
          "base_uri": "https://localhost:8080/"
        },
        "id": "Y1QKqoKfx_vX",
        "outputId": "8a0cb806-7b79-4d68-ee08-72c07243b728"
      },
      "execution_count": null,
      "outputs": [
        {
          "output_type": "stream",
          "name": "stdout",
          "text": [
            "Accuracy: 0.8\n"
          ]
        }
      ]
    },
    {
      "cell_type": "code",
      "source": [
        "# Get feature importance\n",
        "importance = xgb_model.get_score(importance_type='gain')\n",
        "sorted_importance = sorted(importance.items(), key=lambda x: x[1], reverse=True)\n",
        "\n",
        "# Print feature importance\n",
        "print(\"Feature Importance:\")\n",
        "for feature, importance_score in sorted_importance:\n",
        "    print(f'Feature {feature}: {importance_score}')"
      ],
      "metadata": {
        "colab": {
          "base_uri": "https://localhost:8080/"
        },
        "id": "Z26nZBdfz5EX",
        "outputId": "b1f6fa5c-747e-482e-aa11-1a1736911490"
      },
      "execution_count": null,
      "outputs": [
        {
          "output_type": "stream",
          "name": "stdout",
          "text": [
            "Feature Importance:\n",
            "Feature f4: 12.189614295959473\n",
            "Feature f3: 6.557542324066162\n",
            "Feature f14: 5.679976463317871\n",
            "Feature f18: 5.673801898956299\n",
            "Feature f7: 5.425024509429932\n",
            "Feature f17: 5.264420032501221\n",
            "Feature f24: 5.233043193817139\n",
            "Feature f2: 5.0687079429626465\n",
            "Feature f13: 5.065770626068115\n",
            "Feature f23: 4.912106513977051\n",
            "Feature f6: 4.769985675811768\n",
            "Feature f20: 4.678173542022705\n",
            "Feature f26: 4.465542793273926\n",
            "Feature f22: 4.460500240325928\n",
            "Feature f10: 4.3463568687438965\n",
            "Feature f8: 4.29525089263916\n",
            "Feature f9: 4.184313774108887\n",
            "Feature f19: 4.102970600128174\n",
            "Feature f25: 4.061570167541504\n",
            "Feature f15: 3.997736692428589\n",
            "Feature f16: 3.970878839492798\n",
            "Feature f12: 3.9634177684783936\n",
            "Feature f1: 3.901219129562378\n",
            "Feature f0: 3.7688143253326416\n",
            "Feature f11: 3.76485013961792\n",
            "Feature f27: 3.6287167072296143\n",
            "Feature f5: 3.5069427490234375\n",
            "Feature f21: 3.506319761276245\n"
          ]
        }
      ]
    }
  ]
}